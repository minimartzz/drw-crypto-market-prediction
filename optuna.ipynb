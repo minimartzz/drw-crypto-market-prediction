{
 "cells": [
  {
   "cell_type": "markdown",
   "metadata": {},
   "source": [
    "# Testing Optuna"
   ]
  },
  {
   "cell_type": "markdown",
   "metadata": {},
   "source": [
    "| Date | User | Change Type | Remarks |  \n",
    "| ---- | ---- | ----------- | ------- |\n",
    "| 08/07/2025   | Martin | Create  | Notebook created to test optuna for hyperparameter search | "
   ]
  },
  {
   "cell_type": "markdown",
   "metadata": {
    "vscode": {
     "languageId": "plaintext"
    }
   },
   "source": [
    "# Content\n",
    "\n",
    "* [Vanilla Optuna](#header-1)"
   ]
  },
  {
   "cell_type": "markdown",
   "metadata": {},
   "source": [
    "# Vanilla Optuna"
   ]
  },
  {
   "cell_type": "code",
   "execution_count": 1,
   "metadata": {},
   "outputs": [],
   "source": [
    "%load_ext watermark"
   ]
  },
  {
   "cell_type": "code",
   "execution_count": 9,
   "metadata": {},
   "outputs": [],
   "source": [
    "import optuna\n",
    "import lightgbm as lgb\n",
    "import polars as pl\n",
    "import matplotlib.pyplot as plt\n",
    "import numpy as np\n",
    "\n",
    "from sklearn.model_selection import train_test_split\n",
    "from scipy.stats import pearsonr"
   ]
  },
  {
   "cell_type": "code",
   "execution_count": 5,
   "metadata": {},
   "outputs": [
    {
     "data": {
      "text/html": [
       "<div><style>\n",
       ".dataframe > thead > tr,\n",
       ".dataframe > tbody > tr {\n",
       "  text-align: right;\n",
       "  white-space: pre-wrap;\n",
       "}\n",
       "</style>\n",
       "<small>shape: (5, 122)</small><table border=\"1\" class=\"dataframe\"><thead><tr><th>pca_1</th><th>pca_2</th><th>pca_3</th><th>pca_4</th><th>pca_5</th><th>pca_6</th><th>pca_7</th><th>pca_8</th><th>pca_9</th><th>pca_10</th><th>pca_11</th><th>pca_12</th><th>pca_13</th><th>pca_14</th><th>pca_15</th><th>pca_16</th><th>pca_17</th><th>pca_18</th><th>pca_19</th><th>pca_20</th><th>pca_21</th><th>pca_22</th><th>pca_23</th><th>pca_24</th><th>pca_25</th><th>pca_26</th><th>pca_27</th><th>pca_28</th><th>pca_29</th><th>pca_30</th><th>pca_31</th><th>pca_32</th><th>pca_33</th><th>pca_34</th><th>pca_35</th><th>pca_36</th><th>pca_37</th><th>&hellip;</th><th>pca_86</th><th>pca_87</th><th>pca_88</th><th>pca_89</th><th>pca_90</th><th>pca_91</th><th>pca_92</th><th>pca_93</th><th>pca_94</th><th>pca_95</th><th>pca_96</th><th>pca_97</th><th>pca_98</th><th>pca_99</th><th>pca_100</th><th>pca_101</th><th>pca_102</th><th>pca_103</th><th>pca_104</th><th>pca_105</th><th>pca_106</th><th>pca_107</th><th>pca_108</th><th>pca_109</th><th>pca_110</th><th>pca_111</th><th>pca_112</th><th>pca_113</th><th>pca_114</th><th>pca_115</th><th>pca_116</th><th>pca_117</th><th>pca_118</th><th>pca_119</th><th>pca_120</th><th>timestamp</th><th>label</th></tr><tr><td>f64</td><td>f64</td><td>f64</td><td>f64</td><td>f64</td><td>f64</td><td>f64</td><td>f64</td><td>f64</td><td>f64</td><td>f64</td><td>f64</td><td>f64</td><td>f64</td><td>f64</td><td>f64</td><td>f64</td><td>f64</td><td>f64</td><td>f64</td><td>f64</td><td>f64</td><td>f64</td><td>f64</td><td>f64</td><td>f64</td><td>f64</td><td>f64</td><td>f64</td><td>f64</td><td>f64</td><td>f64</td><td>f64</td><td>f64</td><td>f64</td><td>f64</td><td>f64</td><td>&hellip;</td><td>f64</td><td>f64</td><td>f64</td><td>f64</td><td>f64</td><td>f64</td><td>f64</td><td>f64</td><td>f64</td><td>f64</td><td>f64</td><td>f64</td><td>f64</td><td>f64</td><td>f64</td><td>f64</td><td>f64</td><td>f64</td><td>f64</td><td>f64</td><td>f64</td><td>f64</td><td>f64</td><td>f64</td><td>f64</td><td>f64</td><td>f64</td><td>f64</td><td>f64</td><td>f64</td><td>f64</td><td>f64</td><td>f64</td><td>f64</td><td>f64</td><td>str</td><td>f64</td></tr></thead><tbody><tr><td>-8.704309</td><td>5.45448</td><td>0.089441</td><td>-7.54084</td><td>4.768329</td><td>-5.736881</td><td>-0.231744</td><td>-1.788746</td><td>2.788266</td><td>-1.190636</td><td>3.148074</td><td>3.06826</td><td>6.837452</td><td>0.155804</td><td>-0.885875</td><td>-2.395842</td><td>3.13128</td><td>-4.266488</td><td>0.943026</td><td>0.60447</td><td>0.816785</td><td>-0.961067</td><td>-3.641479</td><td>-0.078829</td><td>-4.117839</td><td>4.6193</td><td>0.883802</td><td>-0.229885</td><td>0.600305</td><td>3.098696</td><td>-2.115549</td><td>1.951743</td><td>-0.103804</td><td>1.010359</td><td>1.52759</td><td>3.009872</td><td>0.625632</td><td>&hellip;</td><td>-0.83295</td><td>0.411902</td><td>1.958133</td><td>0.40939</td><td>0.075597</td><td>-1.114706</td><td>-0.102757</td><td>-0.103655</td><td>-0.173762</td><td>-0.167699</td><td>0.303377</td><td>-1.386903</td><td>0.9592</td><td>0.333935</td><td>-0.322841</td><td>0.100387</td><td>-0.00093</td><td>0.360481</td><td>-0.643133</td><td>-0.73806</td><td>0.887927</td><td>0.507611</td><td>-1.714703</td><td>-0.139313</td><td>-0.649024</td><td>-1.111647</td><td>-0.281171</td><td>0.62976</td><td>-1.064831</td><td>0.435178</td><td>0.168905</td><td>-0.654007</td><td>0.287436</td><td>-0.9085</td><td>-0.483989</td><td>&quot;2023-03-01T00:00:00.000000000&quot;</td><td>0.562539</td></tr><tr><td>-7.994975</td><td>5.527279</td><td>-0.093258</td><td>-4.78567</td><td>4.097361</td><td>-6.208308</td><td>0.004089</td><td>-0.355855</td><td>3.798541</td><td>0.215877</td><td>2.648574</td><td>3.351467</td><td>6.158131</td><td>0.254169</td><td>-3.347221</td><td>-2.473193</td><td>3.618805</td><td>-3.161974</td><td>3.224999</td><td>2.054594</td><td>-2.296999</td><td>0.672556</td><td>-1.778871</td><td>-1.52334</td><td>1.743752</td><td>4.333566</td><td>-0.902184</td><td>0.029043</td><td>0.229918</td><td>2.181485</td><td>0.296175</td><td>1.67046</td><td>-0.227987</td><td>1.403915</td><td>2.228776</td><td>2.469899</td><td>-0.592644</td><td>&hellip;</td><td>-1.408637</td><td>0.337922</td><td>0.350379</td><td>-0.137153</td><td>0.000447</td><td>-1.546396</td><td>0.222861</td><td>0.54616</td><td>-0.286338</td><td>0.611064</td><td>-0.42617</td><td>-0.987761</td><td>1.431453</td><td>0.403918</td><td>-0.030256</td><td>0.113834</td><td>0.394106</td><td>-0.945749</td><td>-0.211975</td><td>-0.393696</td><td>1.696762</td><td>-0.206892</td><td>-2.071071</td><td>-0.696854</td><td>-0.789737</td><td>-0.818696</td><td>-0.342221</td><td>0.566906</td><td>-0.331511</td><td>0.761192</td><td>0.021027</td><td>-0.536371</td><td>-0.425608</td><td>0.056954</td><td>-0.552911</td><td>&quot;2023-03-01T00:01:00.000000000&quot;</td><td>0.533686</td></tr><tr><td>-8.26279</td><td>5.052642</td><td>-0.215007</td><td>-4.022985</td><td>3.920973</td><td>-5.534213</td><td>-0.192796</td><td>1.0202</td><td>3.404864</td><td>1.268972</td><td>2.083842</td><td>3.41862</td><td>5.318265</td><td>-0.448951</td><td>-3.372344</td><td>-2.696721</td><td>3.405499</td><td>-1.909767</td><td>3.035536</td><td>2.726676</td><td>-2.895715</td><td>0.675317</td><td>-2.672765</td><td>-1.462927</td><td>4.68873</td><td>3.224458</td><td>-1.63386</td><td>-0.420518</td><td>0.737464</td><td>1.673416</td><td>1.288468</td><td>1.626087</td><td>-0.205033</td><td>1.21317</td><td>2.613173</td><td>1.760396</td><td>-0.513233</td><td>&hellip;</td><td>-1.435126</td><td>-0.602025</td><td>0.566827</td><td>0.197806</td><td>0.759271</td><td>-1.606877</td><td>-0.002562</td><td>-0.168767</td><td>-0.177104</td><td>-0.062822</td><td>0.693314</td><td>-1.088589</td><td>1.134069</td><td>-0.634355</td><td>0.603804</td><td>1.470887</td><td>1.181964</td><td>1.050156</td><td>0.296225</td><td>-0.416962</td><td>1.836099</td><td>-0.317207</td><td>-1.092388</td><td>-1.08504</td><td>-0.835654</td><td>-0.032517</td><td>-0.704754</td><td>-0.151475</td><td>0.02618</td><td>0.294466</td><td>-0.014631</td><td>-0.29039</td><td>-0.119407</td><td>-0.631851</td><td>-0.651055</td><td>&quot;2023-03-01T00:02:00.000000000&quot;</td><td>0.546505</td></tr><tr><td>-6.583707</td><td>7.511057</td><td>-1.011146</td><td>-5.043764</td><td>4.93578</td><td>-5.846506</td><td>0.945893</td><td>-1.987165</td><td>5.037395</td><td>-0.61052</td><td>3.062758</td><td>3.185566</td><td>6.651355</td><td>0.209246</td><td>-4.044023</td><td>-2.209972</td><td>2.891386</td><td>-3.855405</td><td>3.003505</td><td>0.468633</td><td>-1.329728</td><td>0.101761</td><td>-1.862309</td><td>-2.455378</td><td>2.926416</td><td>4.623982</td><td>-2.465403</td><td>-0.558694</td><td>1.26826</td><td>1.792994</td><td>1.559252</td><td>2.209627</td><td>-0.713931</td><td>1.75982</td><td>1.519249</td><td>3.20797</td><td>-0.787381</td><td>&hellip;</td><td>-0.60509</td><td>-0.308904</td><td>0.684425</td><td>-0.057665</td><td>0.137066</td><td>-1.708174</td><td>-0.534534</td><td>0.067984</td><td>-0.612431</td><td>0.29722</td><td>0.05843</td><td>-1.00365</td><td>1.514464</td><td>-0.185545</td><td>0.080562</td><td>1.241688</td><td>0.870678</td><td>-0.031129</td><td>0.022311</td><td>-0.28331</td><td>1.933081</td><td>0.522886</td><td>-0.72863</td><td>-0.696465</td><td>-0.941094</td><td>-0.560078</td><td>-0.153947</td><td>1.394604</td><td>-0.566123</td><td>1.238746</td><td>0.415802</td><td>-0.680394</td><td>-0.322317</td><td>-0.24378</td><td>-0.658033</td><td>&quot;2023-03-01T00:03:00.000000000&quot;</td><td>0.357703</td></tr><tr><td>-6.496762</td><td>7.126301</td><td>-0.582182</td><td>-5.279062</td><td>4.686467</td><td>-6.359052</td><td>0.802733</td><td>-0.713604</td><td>4.994975</td><td>0.220712</td><td>3.183836</td><td>2.947917</td><td>5.852149</td><td>-0.284797</td><td>-3.676434</td><td>-2.022073</td><td>2.813884</td><td>-2.542805</td><td>3.164651</td><td>2.014087</td><td>-1.716045</td><td>0.661284</td><td>-1.617872</td><td>-1.461303</td><td>2.399019</td><td>3.573622</td><td>-2.939042</td><td>-0.593127</td><td>1.061588</td><td>1.461763</td><td>1.08091</td><td>1.564789</td><td>-0.689344</td><td>1.887824</td><td>1.781988</td><td>2.113466</td><td>-1.470044</td><td>&hellip;</td><td>-0.964248</td><td>0.289927</td><td>0.421918</td><td>0.062309</td><td>0.049763</td><td>-1.322253</td><td>0.19617</td><td>0.421016</td><td>-0.634051</td><td>0.421525</td><td>-0.283888</td><td>-0.949149</td><td>1.244307</td><td>0.10962</td><td>0.055669</td><td>0.352902</td><td>0.304042</td><td>-0.528602</td><td>-0.181407</td><td>0.590642</td><td>2.094211</td><td>0.457902</td><td>-0.711412</td><td>-0.589147</td><td>-0.633527</td><td>-0.47487</td><td>0.160261</td><td>0.856662</td><td>-0.15642</td><td>0.802343</td><td>0.379664</td><td>-0.862967</td><td>-0.460044</td><td>-0.40537</td><td>-0.039417</td><td>&quot;2023-03-01T00:04:00.000000000&quot;</td><td>0.362452</td></tr></tbody></table></div>"
      ],
      "text/plain": [
       "shape: (5, 122)\n",
       "┌───────────┬──────────┬───────────┬───────────┬───┬───────────┬───────────┬────────────┬──────────┐\n",
       "│ pca_1     ┆ pca_2    ┆ pca_3     ┆ pca_4     ┆ … ┆ pca_119   ┆ pca_120   ┆ timestamp  ┆ label    │\n",
       "│ ---       ┆ ---      ┆ ---       ┆ ---       ┆   ┆ ---       ┆ ---       ┆ ---        ┆ ---      │\n",
       "│ f64       ┆ f64      ┆ f64       ┆ f64       ┆   ┆ f64       ┆ f64       ┆ str        ┆ f64      │\n",
       "╞═══════════╪══════════╪═══════════╪═══════════╪═══╪═══════════╪═══════════╪════════════╪══════════╡\n",
       "│ -8.704309 ┆ 5.45448  ┆ 0.089441  ┆ -7.54084  ┆ … ┆ -0.9085   ┆ -0.483989 ┆ 2023-03-01 ┆ 0.562539 │\n",
       "│           ┆          ┆           ┆           ┆   ┆           ┆           ┆ T00:00:00. ┆          │\n",
       "│           ┆          ┆           ┆           ┆   ┆           ┆           ┆ 000000000  ┆          │\n",
       "│ -7.994975 ┆ 5.527279 ┆ -0.093258 ┆ -4.78567  ┆ … ┆ 0.056954  ┆ -0.552911 ┆ 2023-03-01 ┆ 0.533686 │\n",
       "│           ┆          ┆           ┆           ┆   ┆           ┆           ┆ T00:01:00. ┆          │\n",
       "│           ┆          ┆           ┆           ┆   ┆           ┆           ┆ 000000000  ┆          │\n",
       "│ -8.26279  ┆ 5.052642 ┆ -0.215007 ┆ -4.022985 ┆ … ┆ -0.631851 ┆ -0.651055 ┆ 2023-03-01 ┆ 0.546505 │\n",
       "│           ┆          ┆           ┆           ┆   ┆           ┆           ┆ T00:02:00. ┆          │\n",
       "│           ┆          ┆           ┆           ┆   ┆           ┆           ┆ 000000000  ┆          │\n",
       "│ -6.583707 ┆ 7.511057 ┆ -1.011146 ┆ -5.043764 ┆ … ┆ -0.24378  ┆ -0.658033 ┆ 2023-03-01 ┆ 0.357703 │\n",
       "│           ┆          ┆           ┆           ┆   ┆           ┆           ┆ T00:03:00. ┆          │\n",
       "│           ┆          ┆           ┆           ┆   ┆           ┆           ┆ 000000000  ┆          │\n",
       "│ -6.496762 ┆ 7.126301 ┆ -0.582182 ┆ -5.279062 ┆ … ┆ -0.40537  ┆ -0.039417 ┆ 2023-03-01 ┆ 0.362452 │\n",
       "│           ┆          ┆           ┆           ┆   ┆           ┆           ┆ T00:04:00. ┆          │\n",
       "│           ┆          ┆           ┆           ┆   ┆           ┆           ┆ 000000000  ┆          │\n",
       "└───────────┴──────────┴───────────┴───────────┴───┴───────────┴───────────┴────────────┴──────────┘"
      ]
     },
     "execution_count": 5,
     "metadata": {},
     "output_type": "execute_result"
    }
   ],
   "source": [
    "# Load data\n",
    "f = pl.read_csv(\"data/pca_120.csv\")\n",
    "f.head()"
   ]
  },
  {
   "cell_type": "code",
   "execution_count": 14,
   "metadata": {},
   "outputs": [],
   "source": [
    "# Process data\n",
    "df = f.drop('timestamp')\n",
    "y = df['label'].to_numpy()\n",
    "X = df.drop('label').to_numpy()"
   ]
  },
  {
   "cell_type": "code",
   "execution_count": 24,
   "metadata": {},
   "outputs": [],
   "source": [
    "# Define Optuna hyperparameter search\n",
    "def objective(trial):\n",
    "  train_X, valid_X, train_y, valid_y = train_test_split(X, y, test_size=0.2)\n",
    "  dtrain = lgb.Dataset(train_X, label=train_y)\n",
    "\n",
    "  params = {\n",
    "    \"objective\": \"regression\",\n",
    "    \"metric\": trial.suggest_categorical(\"metric\", ['rmse', 'l1', 'l2']),\n",
    "    \"verbosity\": -1,\n",
    "    \"boosting_type\": \"gbdt\",\n",
    "    \"lambda_l1\": trial.suggest_float(\"lambda_l1\", 1e-8, 10.0, log=True),\n",
    "    \"lambda_l2\": trial.suggest_float(\"lambda_l2\", 1e-8, 10.0, log=True),\n",
    "    \"num_leaves\": trial.suggest_int(\"num_leaves\", 2, 256),\n",
    "    \"feature_fraction\": trial.suggest_float(\"feature_fraction\", 0.4, 1.0),\n",
    "    \"bagging_fraction\": trial.suggest_float(\"bagging_fraction\", 0.4, 1.0),\n",
    "    \"bagging_freq\": trial.suggest_int(\"bagging_freq\", 1, 7),\n",
    "    \"min_child_samples\": trial.suggest_int(\"min_child_samples\", 5, 100),\n",
    "  }\n",
    "\n",
    "  gbm = lgb.train(params, dtrain)\n",
    "  preds = gbm.predict(valid_X)\n",
    "  correlation = pearsonr(preds, valid_y).statistic\n",
    "  return correlation"
   ]
  },
  {
   "cell_type": "code",
   "execution_count": 25,
   "metadata": {},
   "outputs": [
    {
     "name": "stderr",
     "output_type": "stream",
     "text": [
      "[I 2025-07-08 21:54:48,884] A new study created in memory with name: no-name-8fb33470-b4b8-4e95-847b-39412106b769\n",
      "[I 2025-07-08 21:54:55,463] Trial 0 finished with value: 0.7078976207768308 and parameters: {'metric': 'rmse', 'lambda_l1': 0.0015228340929400036, 'lambda_l2': 5.6259170692037115, 'num_leaves': 136, 'feature_fraction': 0.9672049075822554, 'bagging_fraction': 0.6481347419311873, 'bagging_freq': 3, 'min_child_samples': 34}. Best is trial 0 with value: 0.7078976207768308.\n",
      "[I 2025-07-08 21:55:02,252] Trial 1 finished with value: 0.7579786635086418 and parameters: {'metric': 'l1', 'lambda_l1': 0.17406950446260772, 'lambda_l2': 0.0042725753222355905, 'num_leaves': 224, 'feature_fraction': 0.6349210448507527, 'bagging_fraction': 0.5473132297241596, 'bagging_freq': 4, 'min_child_samples': 29}. Best is trial 1 with value: 0.7579786635086418.\n",
      "[I 2025-07-08 21:55:08,278] Trial 2 finished with value: 0.7607867087440019 and parameters: {'metric': 'l1', 'lambda_l1': 0.0013125804905226085, 'lambda_l2': 0.02652665583230281, 'num_leaves': 239, 'feature_fraction': 0.4540092248737646, 'bagging_fraction': 0.5898837753167602, 'bagging_freq': 1, 'min_child_samples': 19}. Best is trial 2 with value: 0.7607867087440019.\n",
      "[I 2025-07-08 21:55:13,919] Trial 3 finished with value: 0.7301341971234252 and parameters: {'metric': 'rmse', 'lambda_l1': 7.553770022668831e-07, 'lambda_l2': 2.639094137819374e-06, 'num_leaves': 180, 'feature_fraction': 0.517455716850723, 'bagging_fraction': 0.7506678703834903, 'bagging_freq': 1, 'min_child_samples': 97}. Best is trial 2 with value: 0.7607867087440019.\n",
      "[I 2025-07-08 21:55:17,267] Trial 4 finished with value: 0.6353299489321333 and parameters: {'metric': 'rmse', 'lambda_l1': 7.66125318909762e-07, 'lambda_l2': 0.016045081025567915, 'num_leaves': 81, 'feature_fraction': 0.41792269287392014, 'bagging_fraction': 0.8100094898533219, 'bagging_freq': 3, 'min_child_samples': 43}. Best is trial 2 with value: 0.7607867087440019.\n",
      "[I 2025-07-08 21:55:24,896] Trial 5 finished with value: 0.7610705994130066 and parameters: {'metric': 'rmse', 'lambda_l1': 5.2911047374424856, 'lambda_l2': 5.295137755218744e-07, 'num_leaves': 210, 'feature_fraction': 0.8195397918372304, 'bagging_fraction': 0.547332699344279, 'bagging_freq': 6, 'min_child_samples': 20}. Best is trial 5 with value: 0.7610705994130066.\n",
      "[I 2025-07-08 21:55:29,061] Trial 6 finished with value: 0.6671143777585204 and parameters: {'metric': 'l1', 'lambda_l1': 0.002882358652076545, 'lambda_l2': 7.372263208310615e-08, 'num_leaves': 125, 'feature_fraction': 0.4528432971624073, 'bagging_fraction': 0.5866257349695926, 'bagging_freq': 5, 'min_child_samples': 88}. Best is trial 5 with value: 0.7610705994130066.\n",
      "[I 2025-07-08 21:55:36,733] Trial 7 finished with value: 0.7677109933499279 and parameters: {'metric': 'l1', 'lambda_l1': 2.4807017776968476, 'lambda_l2': 0.25835486219950426, 'num_leaves': 254, 'feature_fraction': 0.632086482233723, 'bagging_fraction': 0.6011428545820632, 'bagging_freq': 3, 'min_child_samples': 88}. Best is trial 7 with value: 0.7677109933499279.\n",
      "[I 2025-07-08 21:55:42,006] Trial 8 finished with value: 0.7245269693377802 and parameters: {'metric': 'l2', 'lambda_l1': 0.30864159888310794, 'lambda_l2': 0.006828688445823792, 'num_leaves': 155, 'feature_fraction': 0.5946059529059154, 'bagging_fraction': 0.5508701711035443, 'bagging_freq': 2, 'min_child_samples': 6}. Best is trial 7 with value: 0.7677109933499279.\n",
      "[I 2025-07-08 21:55:45,637] Trial 9 finished with value: 0.612841730586047 and parameters: {'metric': 'l1', 'lambda_l1': 8.892768675089097e-07, 'lambda_l2': 0.27265635263234944, 'num_leaves': 63, 'feature_fraction': 0.6805016612784578, 'bagging_fraction': 0.6891743091898502, 'bagging_freq': 3, 'min_child_samples': 79}. Best is trial 7 with value: 0.7677109933499279.\n"
     ]
    },
    {
     "name": "stdout",
     "output_type": "stream",
     "text": [
      "Number of finished trials: 10\n",
      "Best trial:\n",
      "  Value: 0.7677109933499279\n",
      "  Params: \n",
      "    metric: l1\n",
      "    lambda_l1: 2.4807017776968476\n",
      "    lambda_l2: 0.25835486219950426\n",
      "    num_leaves: 254\n",
      "    feature_fraction: 0.632086482233723\n",
      "    bagging_fraction: 0.6011428545820632\n",
      "    bagging_freq: 3\n",
      "    min_child_samples: 88\n"
     ]
    }
   ],
   "source": [
    "study = optuna.create_study(direction=\"maximize\")\n",
    "study.optimize(objective, n_trials=10)\n",
    "\n",
    "print(\"Number of finished trials: {}\".format(len(study.trials)))\n",
    "\n",
    "print(\"Best trial:\")\n",
    "trial = study.best_trial\n",
    "\n",
    "print(\"  Value: {}\".format(trial.value))\n",
    "\n",
    "print(\"  Params: \")\n",
    "for key, value in trial.params.items():\n",
    "    print(\"    {}: {}\".format(key, value))"
   ]
  },
  {
   "cell_type": "code",
   "execution_count": null,
   "metadata": {},
   "outputs": [
    {
     "ename": "AttributeError",
     "evalue": "'Study' object has no attribute 'best_score'",
     "output_type": "error",
     "traceback": [
      "\u001b[31m---------------------------------------------------------------------------\u001b[39m",
      "\u001b[31mAttributeError\u001b[39m                            Traceback (most recent call last)",
      "\u001b[36mCell\u001b[39m\u001b[36m \u001b[39m\u001b[32mIn[26]\u001b[39m\u001b[32m, line 1\u001b[39m\n\u001b[32m----> \u001b[39m\u001b[32m1\u001b[39m \u001b[43mstudy\u001b[49m\u001b[43m.\u001b[49m\u001b[43mbest_score\u001b[49m\n",
      "\u001b[31mAttributeError\u001b[39m: 'Study' object has no attribute 'best_score'"
     ]
    }
   ],
   "source": []
  },
  {
   "cell_type": "code",
   "execution_count": null,
   "metadata": {},
   "outputs": [],
   "source": []
  },
  {
   "cell_type": "code",
   "execution_count": null,
   "metadata": {},
   "outputs": [],
   "source": []
  },
  {
   "cell_type": "code",
   "execution_count": null,
   "metadata": {},
   "outputs": [],
   "source": []
  },
  {
   "cell_type": "code",
   "execution_count": null,
   "metadata": {},
   "outputs": [],
   "source": []
  },
  {
   "cell_type": "code",
   "execution_count": null,
   "metadata": {},
   "outputs": [],
   "source": []
  },
  {
   "cell_type": "code",
   "execution_count": null,
   "metadata": {},
   "outputs": [],
   "source": []
  },
  {
   "cell_type": "code",
   "execution_count": null,
   "metadata": {},
   "outputs": [],
   "source": []
  },
  {
   "cell_type": "code",
   "execution_count": null,
   "metadata": {},
   "outputs": [],
   "source": []
  },
  {
   "cell_type": "code",
   "execution_count": null,
   "metadata": {},
   "outputs": [],
   "source": []
  },
  {
   "cell_type": "code",
   "execution_count": null,
   "metadata": {},
   "outputs": [],
   "source": []
  },
  {
   "cell_type": "code",
   "execution_count": 2,
   "metadata": {},
   "outputs": [
    {
     "name": "stdout",
     "output_type": "stream",
     "text": [
      "Last updated: 2025-07-08T21:35:04.500769+08:00\n",
      "\n",
      "Python implementation: CPython\n",
      "Python version       : 3.11.9\n",
      "IPython version      : 9.4.0\n",
      "\n",
      "Compiler    : Clang 13.0.0 (clang-1300.0.29.30)\n",
      "OS          : Darwin\n",
      "Release     : 24.5.0\n",
      "Machine     : arm64\n",
      "Processor   : arm\n",
      "CPU cores   : 10\n",
      "Architecture: 64bit\n",
      "\n"
     ]
    }
   ],
   "source": [
    "%watermark"
   ]
  }
 ],
 "metadata": {
  "kernelspec": {
   "display_name": ".venv",
   "language": "python",
   "name": "python3"
  },
  "language_info": {
   "codemirror_mode": {
    "name": "ipython",
    "version": 3
   },
   "file_extension": ".py",
   "mimetype": "text/x-python",
   "name": "python",
   "nbconvert_exporter": "python",
   "pygments_lexer": "ipython3",
   "version": "3.11.9"
  }
 },
 "nbformat": 4,
 "nbformat_minor": 2
}
