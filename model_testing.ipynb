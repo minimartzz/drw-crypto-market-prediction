{
 "cells": [
  {
   "cell_type": "markdown",
   "metadata": {},
   "source": [
    "# Model Testing"
   ]
  },
  {
   "cell_type": "markdown",
   "metadata": {},
   "source": [
    "| Date | User | Change Type | Remarks |  \n",
    "| ---- | ---- | ----------- | ------- |\n",
    "| 12/06/2025   | Martin | Create  | Baseline model with Decision Tree and HistGradientBoosting regressor | \n",
    "| 24/06/2025   | Martin | Update  | Completed baseline models. Started on ARIMA models | "
   ]
  },
  {
   "cell_type": "markdown",
   "metadata": {},
   "source": [
    "__Exploration Scores__\n",
    "\n",
    "- Baseline (DecisionTree | Full Data): -0.003280\n",
    "- Baseline (HistGradientBoosting | Full Data): 0.054610\n",
    "- Baseline (LightGBM | Full Data): 0.023996\n",
    "\n",
    "__Submitted Scores__\n",
    "\n",
    "- Baseline (LightGBM | Full Data): 0.04734"
   ]
  },
  {
   "cell_type": "markdown",
   "metadata": {
    "vscode": {
     "languageId": "plaintext"
    }
   },
   "source": [
    "# Content\n",
    "\n",
    "* [Baseline Models](#baseline-models)\n",
    "* [ARIMA Models](#arima-models)\n",
    "* [Make Predictions](#make-predictions)"
   ]
  },
  {
   "cell_type": "markdown",
   "metadata": {},
   "source": [
    "# Baseline Models\n",
    "\n",
    "Baseline model serves as the starting point for all future scores. Using a Decision Tree, HistGradientBoostingRegressor, LightGBM with KFold Cross Validation together with entire dataset for testing."
   ]
  },
  {
   "cell_type": "code",
   "execution_count": 1,
   "metadata": {},
   "outputs": [],
   "source": [
    "import polars as pl\n",
    "import numpy as np\n",
    "import wandb\n",
    "\n",
    "from sklearn.preprocessing import StandardScaler\n",
    "from sklearn.model_selection import KFold\n",
    "from sklearn.tree import DecisionTreeRegressor\n",
    "from sklearn.ensemble import HistGradientBoostingRegressor\n",
    "from sklearn.metrics import mean_squared_error, mean_absolute_error, r2_score\n",
    "\n",
    "from lightgbm import LGBMRegressor\n",
    "\n",
    "from scipy.stats import pearsonr"
   ]
  },
  {
   "cell_type": "code",
   "execution_count": 2,
   "metadata": {},
   "outputs": [
    {
     "name": "stderr",
     "output_type": "stream",
     "text": [
      "\u001b[34m\u001b[1mwandb\u001b[0m: Currently logged in as: \u001b[33mminimartzz\u001b[0m to \u001b[32mhttps://api.wandb.ai\u001b[0m. Use \u001b[1m`wandb login --relogin`\u001b[0m to force relogin\n"
     ]
    },
    {
     "data": {
      "text/plain": [
       "True"
      ]
     },
     "execution_count": 2,
     "metadata": {},
     "output_type": "execute_result"
    }
   ],
   "source": [
    "wandb.login()"
   ]
  },
  {
   "cell_type": "code",
   "execution_count": 3,
   "metadata": {},
   "outputs": [],
   "source": [
    "# Global parameters\n",
    "PROJ_NAME = \"drw_cryto_market\""
   ]
  },
  {
   "cell_type": "code",
   "execution_count": 4,
   "metadata": {},
   "outputs": [],
   "source": [
    "df = pl.read_csv(\"data/clean/orig_plus.csv\")\n",
    "\n",
    "# Remove timestamp\n",
    "df = df.drop('timestamp')"
   ]
  },
  {
   "cell_type": "code",
   "execution_count": 5,
   "metadata": {},
   "outputs": [
    {
     "data": {
      "text/html": [
       "<div><style>\n",
       ".dataframe > thead > tr,\n",
       ".dataframe > tbody > tr {\n",
       "  text-align: right;\n",
       "  white-space: pre-wrap;\n",
       "}\n",
       "</style>\n",
       "<small>shape: (5, 883)</small><table border=\"1\" class=\"dataframe\"><thead><tr><th>bid_qty</th><th>ask_qty</th><th>buy_qty</th><th>sell_qty</th><th>volume</th><th>X1</th><th>X2</th><th>X3</th><th>X4</th><th>X5</th><th>X6</th><th>X7</th><th>X8</th><th>X9</th><th>X10</th><th>X11</th><th>X12</th><th>X13</th><th>X14</th><th>X15</th><th>X16</th><th>X17</th><th>X18</th><th>X19</th><th>X20</th><th>X21</th><th>X22</th><th>X23</th><th>X24</th><th>X25</th><th>X26</th><th>X27</th><th>X28</th><th>X29</th><th>X30</th><th>X31</th><th>X32</th><th>&hellip;</th><th>X863</th><th>X864</th><th>X865</th><th>X866</th><th>X867</th><th>X868</th><th>X869</th><th>X870</th><th>X871</th><th>X872</th><th>X873</th><th>X874</th><th>X875</th><th>X876</th><th>X877</th><th>X878</th><th>X879</th><th>X880</th><th>X881</th><th>X882</th><th>X883</th><th>X884</th><th>X885</th><th>X886</th><th>X887</th><th>X888</th><th>X889</th><th>X890</th><th>label</th><th>bair</th><th>moi</th><th>ofr</th><th>lpr</th><th>obs</th><th>vwoi</th><th>va</th><th>obrsi</th></tr><tr><td>f64</td><td>f64</td><td>f64</td><td>f64</td><td>f64</td><td>f64</td><td>f64</td><td>f64</td><td>f64</td><td>f64</td><td>f64</td><td>f64</td><td>f64</td><td>f64</td><td>f64</td><td>f64</td><td>f64</td><td>f64</td><td>f64</td><td>f64</td><td>f64</td><td>f64</td><td>f64</td><td>f64</td><td>f64</td><td>f64</td><td>f64</td><td>f64</td><td>f64</td><td>f64</td><td>f64</td><td>f64</td><td>f64</td><td>f64</td><td>f64</td><td>f64</td><td>f64</td><td>&hellip;</td><td>f64</td><td>f64</td><td>f64</td><td>f64</td><td>f64</td><td>f64</td><td>f64</td><td>f64</td><td>f64</td><td>f64</td><td>f64</td><td>f64</td><td>f64</td><td>f64</td><td>f64</td><td>f64</td><td>f64</td><td>f64</td><td>f64</td><td>f64</td><td>f64</td><td>f64</td><td>f64</td><td>f64</td><td>f64</td><td>f64</td><td>f64</td><td>f64</td><td>f64</td><td>f64</td><td>f64</td><td>f64</td><td>f64</td><td>f64</td><td>f64</td><td>f64</td><td>f64</td></tr></thead><tbody><tr><td>15.283</td><td>8.425</td><td>176.405</td><td>44.984</td><td>221.389</td><td>0.121263</td><td>-0.41769</td><td>0.005399</td><td>0.125948</td><td>0.058359</td><td>0.027359</td><td>0.03578</td><td>0.068219</td><td>1.034825</td><td>-0.029575</td><td>0.327805</td><td>0.485823</td><td>0.668596</td><td>0.617389</td><td>0.770037</td><td>0.857631</td><td>1.754456</td><td>0.572503</td><td>0.883229</td><td>0.58567</td><td>0.816321</td><td>0.529973</td><td>0.508244</td><td>0.448616</td><td>1.341892</td><td>1.406392</td><td>0.953631</td><td>1.183991</td><td>1.474789</td><td>0.774389</td><td>0.660586</td><td>0.269043</td><td>&hellip;</td><td>0.21857</td><td>0.0</td><td>1.728155</td><td>0.62414</td><td>0.0</td><td>-0.051211</td><td>0.0</td><td>0.0</td><td>0.0</td><td>0.0</td><td>0.691754</td><td>0.242124</td><td>2.096157</td><td>3.369195</td><td>0.244667</td><td>0.286611</td><td>0.722679</td><td>0.901931</td><td>1.000007</td><td>1.925423</td><td>1.847943</td><td>0.005676</td><td>0.190791</td><td>0.369691</td><td>0.37763</td><td>0.210153</td><td>0.159183</td><td>0.530636</td><td>0.562539</td><td>1.814006</td><td>3.921505</td><td>0.59362</td><td>3.589058</td><td>138.279</td><td>0.59362</td><td>626.407</td><td>57.874677</td></tr><tr><td>38.59</td><td>2.336</td><td>525.846</td><td>321.95</td><td>847.796</td><td>0.302841</td><td>-0.049576</td><td>0.356667</td><td>0.481087</td><td>0.237954</td><td>0.208359</td><td>0.217057</td><td>0.249624</td><td>0.948694</td><td>-0.183488</td><td>0.150526</td><td>0.308421</td><td>0.492232</td><td>0.529787</td><td>0.682958</td><td>0.770965</td><td>1.686504</td><td>0.273357</td><td>0.591695</td><td>0.442391</td><td>0.674792</td><td>0.460741</td><td>0.439681</td><td>0.380399</td><td>1.304113</td><td>1.003783</td><td>0.776628</td><td>1.015943</td><td>1.312735</td><td>0.696895</td><td>0.584217</td><td>0.231104</td><td>&hellip;</td><td>0.088014</td><td>0.0</td><td>1.665698</td><td>0.622775</td><td>0.0</td><td>-0.079621</td><td>0.0</td><td>0.0</td><td>0.0</td><td>0.0</td><td>0.691665</td><td>0.242091</td><td>2.46103</td><td>4.127584</td><td>0.321394</td><td>0.31246</td><td>0.746452</td><td>0.912371</td><td>1.003153</td><td>1.928569</td><td>1.849468</td><td>0.005227</td><td>0.18466</td><td>0.363642</td><td>0.374515</td><td>0.209573</td><td>0.158963</td><td>0.530269</td><td>0.533686</td><td>16.519692</td><td>1.633316</td><td>0.240501</td><td>1.74055</td><td>240.15</td><td>0.240501</td><td>626.407</td><td>57.874677</td></tr><tr><td>0.442</td><td>60.25</td><td>159.227</td><td>136.369</td><td>295.596</td><td>0.167462</td><td>-0.291212</td><td>0.083138</td><td>0.206881</td><td>0.101727</td><td>0.072778</td><td>0.081564</td><td>0.114166</td><td>0.896459</td><td>-0.261779</td><td>0.044571</td><td>0.200608</td><td>0.384558</td><td>0.476229</td><td>0.629848</td><td>0.718232</td><td>1.656707</td><td>0.140156</td><td>0.457268</td><td>0.376524</td><td>0.610116</td><td>0.429751</td><td>0.409316</td><td>0.350359</td><td>1.28325</td><td>0.760801</td><td>0.670816</td><td>0.917205</td><td>1.219124</td><td>0.653355</td><td>0.541739</td><td>0.210095</td><td>&hellip;</td><td>-0.147363</td><td>0.0</td><td>1.666893</td><td>0.621414</td><td>0.0</td><td>-0.080427</td><td>0.0</td><td>0.0</td><td>0.0</td><td>0.0</td><td>0.691674</td><td>0.242093</td><td>2.493249</td><td>4.182112</td><td>0.326701</td><td>0.314636</td><td>0.746681</td><td>0.911129</td><td>1.002502</td><td>1.928047</td><td>1.849282</td><td>0.004796</td><td>0.178719</td><td>0.357689</td><td>0.371424</td><td>0.208993</td><td>0.158744</td><td>0.529901</td><td>0.546505</td><td>0.007336</td><td>1.167619</td><td>0.077329</td><td>0.812073</td><td>-36.95</td><td>0.077329</td><td>-552.2</td><td>57.874677</td></tr><tr><td>4.865</td><td>21.016</td><td>335.742</td><td>124.963</td><td>460.705</td><td>0.072944</td><td>-0.43659</td><td>-0.102483</td><td>0.017551</td><td>0.007149</td><td>-0.021681</td><td>-0.012936</td><td>0.019634</td><td>0.732634</td><td>-0.535845</td><td>-0.273947</td><td>-0.124959</td><td>0.056438</td><td>0.311539</td><td>0.465377</td><td>0.554022</td><td>1.663491</td><td>0.152084</td><td>0.468778</td><td>0.383696</td><td>0.618529</td><td>0.435326</td><td>0.415523</td><td>0.356895</td><td>1.319538</td><td>0.955549</td><td>0.789646</td><td>1.044941</td><td>1.353001</td><td>0.72392</td><td>0.613462</td><td>0.246212</td><td>&hellip;</td><td>-0.09459</td><td>0.0</td><td>1.735322</td><td>0.620057</td><td>0.0</td><td>-0.094702</td><td>0.0</td><td>0.0</td><td>0.0</td><td>0.0</td><td>0.69121</td><td>0.24193</td><td>2.525526</td><td>4.292975</td><td>0.350791</td><td>0.32357</td><td>0.753829</td><td>0.913363</td><td>1.002985</td><td>1.928621</td><td>1.849608</td><td>0.004398</td><td>0.172967</td><td>0.351832</td><td>0.368358</td><td>0.208416</td><td>0.158524</td><td>0.529534</td><td>0.357703</td><td>0.23149</td><td>2.686731</td><td>0.457514</td><td>2.33326</td><td>194.628</td><td>0.457514</td><td>165.109</td><td>57.874677</td></tr><tr><td>27.158</td><td>3.451</td><td>98.411</td><td>44.407</td><td>142.818</td><td>0.17382</td><td>-0.213489</td><td>0.096067</td><td>0.215709</td><td>0.107133</td><td>0.078976</td><td>0.087818</td><td>0.120426</td><td>0.763537</td><td>-0.430945</td><td>-0.205298</td><td>-0.062118</td><td>0.117266</td><td>0.341493</td><td>0.495591</td><td>0.584519</td><td>1.668419</td><td>0.156177</td><td>0.472732</td><td>0.3871</td><td>0.623192</td><td>0.439034</td><td>0.419868</td><td>0.361572</td><td>1.324595</td><td>0.90546</td><td>0.78375</td><td>1.047708</td><td>1.36188</td><td>0.732001</td><td>0.622712</td><td>0.251095</td><td>&hellip;</td><td>0.162221</td><td>0.0</td><td>1.712096</td><td>0.618703</td><td>0.0</td><td>-0.091884</td><td>0.0</td><td>0.0</td><td>0.0</td><td>0.0</td><td>0.691207</td><td>0.241928</td><td>2.52443</td><td>4.306694</td><td>0.335599</td><td>0.31907</td><td>0.747533</td><td>0.908904</td><td>1.001286</td><td>1.927084</td><td>1.84895</td><td>0.004008</td><td>0.167391</td><td>0.346066</td><td>0.365314</td><td>0.207839</td><td>0.158304</td><td>0.529167</td><td>0.362452</td><td>7.869603</td><td>2.216115</td><td>0.378132</td><td>2.623783</td><td>77.711</td><td>0.378132</td><td>-317.887</td><td>57.874677</td></tr></tbody></table></div>"
      ],
      "text/plain": [
       "shape: (5, 883)\n",
       "┌─────────┬─────────┬─────────┬──────────┬───┬─────────┬──────────┬──────────┬───────────┐\n",
       "│ bid_qty ┆ ask_qty ┆ buy_qty ┆ sell_qty ┆ … ┆ obs     ┆ vwoi     ┆ va       ┆ obrsi     │\n",
       "│ ---     ┆ ---     ┆ ---     ┆ ---      ┆   ┆ ---     ┆ ---      ┆ ---      ┆ ---       │\n",
       "│ f64     ┆ f64     ┆ f64     ┆ f64      ┆   ┆ f64     ┆ f64      ┆ f64      ┆ f64       │\n",
       "╞═════════╪═════════╪═════════╪══════════╪═══╪═════════╪══════════╪══════════╪═══════════╡\n",
       "│ 15.283  ┆ 8.425   ┆ 176.405 ┆ 44.984   ┆ … ┆ 138.279 ┆ 0.59362  ┆ 626.407  ┆ 57.874677 │\n",
       "│ 38.59   ┆ 2.336   ┆ 525.846 ┆ 321.95   ┆ … ┆ 240.15  ┆ 0.240501 ┆ 626.407  ┆ 57.874677 │\n",
       "│ 0.442   ┆ 60.25   ┆ 159.227 ┆ 136.369  ┆ … ┆ -36.95  ┆ 0.077329 ┆ -552.2   ┆ 57.874677 │\n",
       "│ 4.865   ┆ 21.016  ┆ 335.742 ┆ 124.963  ┆ … ┆ 194.628 ┆ 0.457514 ┆ 165.109  ┆ 57.874677 │\n",
       "│ 27.158  ┆ 3.451   ┆ 98.411  ┆ 44.407   ┆ … ┆ 77.711  ┆ 0.378132 ┆ -317.887 ┆ 57.874677 │\n",
       "└─────────┴─────────┴─────────┴──────────┴───┴─────────┴──────────┴──────────┴───────────┘"
      ]
     },
     "execution_count": 5,
     "metadata": {},
     "output_type": "execute_result"
    }
   ],
   "source": [
    "df.head()"
   ]
  },
  {
   "cell_type": "code",
   "execution_count": 6,
   "metadata": {},
   "outputs": [
    {
     "data": {
      "text/plain": [
       "((525887, 882), (525887,))"
      ]
     },
     "execution_count": 6,
     "metadata": {},
     "output_type": "execute_result"
    }
   ],
   "source": [
    "# Split into X and y\n",
    "y = df['label'].to_numpy()\n",
    "X = df.drop('label').to_numpy()\n",
    "\n",
    "# Standardise the data\n",
    "scaler = StandardScaler()\n",
    "X = scaler.fit_transform(X)\n",
    "\n",
    "X.shape, y.shape"
   ]
  },
  {
   "cell_type": "markdown",
   "metadata": {},
   "source": [
    "Change configuration according to model used"
   ]
  },
  {
   "cell_type": "code",
   "execution_count": null,
   "metadata": {},
   "outputs": [
    {
     "data": {
      "text/html": [
       "Tracking run with wandb version 0.20.1"
      ],
      "text/plain": [
       "<IPython.core.display.HTML object>"
      ]
     },
     "metadata": {},
     "output_type": "display_data"
    },
    {
     "data": {
      "text/html": [
       "Run data is saved locally in <code>d:\\Projects\\drw_crypto_market_prediction\\wandb\\run-20250624_212539-vlmli1cd</code>"
      ],
      "text/plain": [
       "<IPython.core.display.HTML object>"
      ]
     },
     "metadata": {},
     "output_type": "display_data"
    },
    {
     "data": {
      "text/html": [
       "Syncing run <strong><a href='https://wandb.ai/minimartzz/drw_cryto_market/runs/vlmli1cd' target=\"_blank\">elated-microwave-5</a></strong> to <a href='https://wandb.ai/minimartzz/drw_cryto_market' target=\"_blank\">Weights & Biases</a> (<a href='https://wandb.me/developer-guide' target=\"_blank\">docs</a>)<br>"
      ],
      "text/plain": [
       "<IPython.core.display.HTML object>"
      ]
     },
     "metadata": {},
     "output_type": "display_data"
    },
    {
     "data": {
      "text/html": [
       " View project at <a href='https://wandb.ai/minimartzz/drw_cryto_market' target=\"_blank\">https://wandb.ai/minimartzz/drw_cryto_market</a>"
      ],
      "text/plain": [
       "<IPython.core.display.HTML object>"
      ]
     },
     "metadata": {},
     "output_type": "display_data"
    },
    {
     "data": {
      "text/html": [
       " View run at <a href='https://wandb.ai/minimartzz/drw_cryto_market/runs/vlmli1cd' target=\"_blank\">https://wandb.ai/minimartzz/drw_cryto_market/runs/vlmli1cd</a>"
      ],
      "text/plain": [
       "<IPython.core.display.HTML object>"
      ]
     },
     "metadata": {},
     "output_type": "display_data"
    }
   ],
   "source": [
    "# Define model configuration\n",
    "config = {\n",
    "  \"num_kfold_splits\": 7,\n",
    "  \"boosting_type\": \"gbdt\",\n",
    "  \"num_leaves\": 31,\n",
    "  \"max_depth\": -1,\n",
    "  \"learning_rate\": 0.1,\n",
    "  \"n_estimators\": 100,\n",
    "  \"reg_alpha\": 0,\n",
    "  \"reg_lambda\": 0\n",
    "}\n",
    "\n",
    "# Define wandb object\n",
    "run = wandb.init(\n",
    "  project=PROJ_NAME,\n",
    "  notes=\"Light Gradient Boosting with original data + additional features\",\n",
    "  tags=[\"baseline\", \"orig_plus\"],\n",
    "  config=config\n",
    ")"
   ]
  },
  {
   "cell_type": "code",
   "execution_count": 20,
   "metadata": {},
   "outputs": [
    {
     "name": "stdout",
     "output_type": "stream",
     "text": [
      "Fold 1\n",
      "[LightGBM] [Info] Auto-choosing col-wise multi-threading, the overhead of testing was 0.563921 seconds.\n",
      "You can set `force_col_wise=true` to remove the overhead.\n",
      "[LightGBM] [Info] Total Bins 223363\n",
      "[LightGBM] [Info] Number of data points in the train set: 450760, number of used features: 876\n",
      "[LightGBM] [Info] Start training from score 0.039411\n"
     ]
    },
    {
     "name": "stderr",
     "output_type": "stream",
     "text": [
      "d:\\Software\\venv\\py311_env\\Lib\\site-packages\\sklearn\\utils\\validation.py:2739: UserWarning: X does not have valid feature names, but LGBMRegressor was fitted with feature names\n",
      "  warnings.warn(\n"
     ]
    },
    {
     "name": "stdout",
     "output_type": "stream",
     "text": [
      "Pearson Coefficient Score: 0.05302349659897179\n",
      "---------------------------\n",
      "Fold 2\n",
      "[LightGBM] [Info] Auto-choosing col-wise multi-threading, the overhead of testing was 0.484957 seconds.\n",
      "You can set `force_col_wise=true` to remove the overhead.\n",
      "[LightGBM] [Info] Total Bins 223363\n",
      "[LightGBM] [Info] Number of data points in the train set: 450760, number of used features: 876\n",
      "[LightGBM] [Info] Start training from score 0.043508\n"
     ]
    },
    {
     "name": "stderr",
     "output_type": "stream",
     "text": [
      "d:\\Software\\venv\\py311_env\\Lib\\site-packages\\sklearn\\utils\\validation.py:2739: UserWarning: X does not have valid feature names, but LGBMRegressor was fitted with feature names\n",
      "  warnings.warn(\n"
     ]
    },
    {
     "name": "stdout",
     "output_type": "stream",
     "text": [
      "Pearson Coefficient Score: 0.1564405035878033\n",
      "---------------------------\n",
      "Fold 3\n",
      "[LightGBM] [Info] Auto-choosing col-wise multi-threading, the overhead of testing was 0.475298 seconds.\n",
      "You can set `force_col_wise=true` to remove the overhead.\n",
      "[LightGBM] [Info] Total Bins 223377\n",
      "[LightGBM] [Info] Number of data points in the train set: 450760, number of used features: 876\n",
      "[LightGBM] [Info] Start training from score 0.037446\n"
     ]
    },
    {
     "name": "stderr",
     "output_type": "stream",
     "text": [
      "d:\\Software\\venv\\py311_env\\Lib\\site-packages\\sklearn\\utils\\validation.py:2739: UserWarning: X does not have valid feature names, but LGBMRegressor was fitted with feature names\n",
      "  warnings.warn(\n"
     ]
    },
    {
     "name": "stdout",
     "output_type": "stream",
     "text": [
      "Pearson Coefficient Score: 0.04456215794940085\n",
      "---------------------------\n",
      "Fold 4\n",
      "[LightGBM] [Info] Auto-choosing col-wise multi-threading, the overhead of testing was 0.522840 seconds.\n",
      "You can set `force_col_wise=true` to remove the overhead.\n",
      "[LightGBM] [Info] Total Bins 223368\n",
      "[LightGBM] [Info] Number of data points in the train set: 450760, number of used features: 876\n",
      "[LightGBM] [Info] Start training from score 0.048383\n"
     ]
    },
    {
     "name": "stderr",
     "output_type": "stream",
     "text": [
      "d:\\Software\\venv\\py311_env\\Lib\\site-packages\\sklearn\\utils\\validation.py:2739: UserWarning: X does not have valid feature names, but LGBMRegressor was fitted with feature names\n",
      "  warnings.warn(\n"
     ]
    },
    {
     "name": "stdout",
     "output_type": "stream",
     "text": [
      "Pearson Coefficient Score: -0.02082677114586489\n",
      "---------------------------\n",
      "Fold 5\n",
      "[LightGBM] [Info] Auto-choosing col-wise multi-threading, the overhead of testing was 0.546718 seconds.\n",
      "You can set `force_col_wise=true` to remove the overhead.\n",
      "[LightGBM] [Info] Total Bins 223364\n",
      "[LightGBM] [Info] Number of data points in the train set: 450760, number of used features: 876\n",
      "[LightGBM] [Info] Start training from score 0.025289\n"
     ]
    },
    {
     "name": "stderr",
     "output_type": "stream",
     "text": [
      "d:\\Software\\venv\\py311_env\\Lib\\site-packages\\sklearn\\utils\\validation.py:2739: UserWarning: X does not have valid feature names, but LGBMRegressor was fitted with feature names\n",
      "  warnings.warn(\n"
     ]
    },
    {
     "name": "stdout",
     "output_type": "stream",
     "text": [
      "Pearson Coefficient Score: 0.09251158013259256\n",
      "---------------------------\n",
      "Fold 6\n",
      "[LightGBM] [Info] Auto-choosing col-wise multi-threading, the overhead of testing was 0.531671 seconds.\n",
      "You can set `force_col_wise=true` to remove the overhead.\n",
      "[LightGBM] [Info] Total Bins 223367\n",
      "[LightGBM] [Info] Number of data points in the train set: 450761, number of used features: 876\n",
      "[LightGBM] [Info] Start training from score 0.031455\n"
     ]
    },
    {
     "name": "stderr",
     "output_type": "stream",
     "text": [
      "d:\\Software\\venv\\py311_env\\Lib\\site-packages\\sklearn\\utils\\validation.py:2739: UserWarning: X does not have valid feature names, but LGBMRegressor was fitted with feature names\n",
      "  warnings.warn(\n"
     ]
    },
    {
     "name": "stdout",
     "output_type": "stream",
     "text": [
      "Pearson Coefficient Score: 0.11015414436875745\n",
      "---------------------------\n",
      "Fold 7\n",
      "[LightGBM] [Info] Auto-choosing col-wise multi-threading, the overhead of testing was 0.563751 seconds.\n",
      "You can set `force_col_wise=true` to remove the overhead.\n",
      "[LightGBM] [Info] Total Bins 223370\n",
      "[LightGBM] [Info] Number of data points in the train set: 450761, number of used features: 876\n",
      "[LightGBM] [Info] Start training from score 0.027389\n",
      "Pearson Coefficient Score: 0.0239964933769129\n",
      "---------------------------\n",
      "Average Pearson Correlation Score: 0.0239964933769129\n"
     ]
    },
    {
     "name": "stderr",
     "output_type": "stream",
     "text": [
      "d:\\Software\\venv\\py311_env\\Lib\\site-packages\\sklearn\\utils\\validation.py:2739: UserWarning: X does not have valid feature names, but LGBMRegressor was fitted with feature names\n",
      "  warnings.warn(\n"
     ]
    }
   ],
   "source": [
    "# Create KFold cross validation and train\n",
    "kf = KFold(n_splits=run.config['num_kfold_splits'])\n",
    "\n",
    "split_idx = {}\n",
    "scores = []\n",
    "\n",
    "for i, (train_idx, test_idx) in enumerate(kf.split(X)):\n",
    "  print(f\"Fold {i+1}\")\n",
    "\n",
    "  # Split data and store training indices\n",
    "  train_X, train_y = X[train_idx], y[train_idx]\n",
    "  test_X, test_y = X[test_idx], y[test_idx]\n",
    "  split_idx[f\"fold_{i+1}\"] = train_idx\n",
    "\n",
    "  # Train model\n",
    "  # model = DecisionTreeRegressor(\n",
    "  #   max_depth=run.config['max_depth'],\n",
    "  #   random_state=43\n",
    "  # )\n",
    "\n",
    "  # model = HistGradientBoostingRegressor(\n",
    "  #   loss=run.config['loss'],\n",
    "  #   learning_rate=run.config['learning_rate'],\n",
    "  #   max_iter=run.config['max_iter'],\n",
    "  #   max_depth=run.config['max_depth'],\n",
    "  #   l2_regularization=run.config['l2_regularization']\n",
    "  # )\n",
    "\n",
    "  model = LGBMRegressor(\n",
    "    boosting_type=run.config['boosting_type'],\n",
    "    num_leaves=run.config['num_leaves'],\n",
    "    max_depth=run.config['max_depth'],\n",
    "    learning_rate=run.config['learning_rate'],\n",
    "    n_estimators=run.config['n_estimators'],\n",
    "    reg_alpha=run.config['reg_alpha'],\n",
    "    reg_lambda=run.config['reg_lambda']\n",
    "  )\n",
    "  model.fit(train_X, train_y)\n",
    "\n",
    "  # Prediction on val set\n",
    "  results = model.predict(test_X)\n",
    "\n",
    "  # Scoring and logging\n",
    "  pearson_corr = pearsonr(results, test_y).statistic\n",
    "  metrics = {\n",
    "    'pearson_corr': pearson_corr,\n",
    "    'mae': mean_absolute_error(test_y, results),\n",
    "    'mse': mean_squared_error(test_y, results),\n",
    "    'r2': r2_score(test_y, results),\n",
    "  }\n",
    "  run.log({ **metrics })\n",
    "  scores.append(pearson_corr)\n",
    "\n",
    "  print(f\"Pearson Coefficient Score: {pearson_corr}\")\n",
    "  print(\"---------------------------\")\n",
    "\n",
    "print(f\"Average Pearson Correlation Score: {np.mean(pearson_corr)}\")\n"
   ]
  },
  {
   "cell_type": "code",
   "execution_count": 21,
   "metadata": {},
   "outputs": [
    {
     "data": {
      "text/html": [],
      "text/plain": [
       "<IPython.core.display.HTML object>"
      ]
     },
     "metadata": {},
     "output_type": "display_data"
    },
    {
     "data": {
      "text/html": [
       "<br>    <style><br>        .wandb-row {<br>            display: flex;<br>            flex-direction: row;<br>            flex-wrap: wrap;<br>            justify-content: flex-start;<br>            width: 100%;<br>        }<br>        .wandb-col {<br>            display: flex;<br>            flex-direction: column;<br>            flex-basis: 100%;<br>            flex: 1;<br>            padding: 10px;<br>        }<br>    </style><br><div class=\"wandb-row\"><div class=\"wandb-col\"><h3>Run history:</h3><br/><table class=\"wandb\"><tr><td>mae</td><td>▃▁▁▂▃▅█</td></tr><tr><td>mse</td><td>▄▁▁▅▅▄█</td></tr><tr><td>pearson_corr</td><td>▄█▄▁▅▆▃</td></tr><tr><td>r2</td><td>▅█▆▄▇▆▁</td></tr></table><br/></div><div class=\"wandb-col\"><h3>Run summary:</h3><br/><table class=\"wandb\"><tr><td>mae</td><td>0.814</td></tr><tr><td>mse</td><td>1.34892</td></tr><tr><td>pearson_corr</td><td>0.024</td></tr><tr><td>r2</td><td>-0.27143</td></tr></table><br/></div></div>"
      ],
      "text/plain": [
       "<IPython.core.display.HTML object>"
      ]
     },
     "metadata": {},
     "output_type": "display_data"
    },
    {
     "data": {
      "text/html": [
       " View run <strong style=\"color:#cdcd00\">elated-microwave-5</strong> at: <a href='https://wandb.ai/minimartzz/drw_cryto_market/runs/vlmli1cd' target=\"_blank\">https://wandb.ai/minimartzz/drw_cryto_market/runs/vlmli1cd</a><br> View project at: <a href='https://wandb.ai/minimartzz/drw_cryto_market' target=\"_blank\">https://wandb.ai/minimartzz/drw_cryto_market</a><br>Synced 5 W&B file(s), 0 media file(s), 0 artifact file(s) and 0 other file(s)"
      ],
      "text/plain": [
       "<IPython.core.display.HTML object>"
      ]
     },
     "metadata": {},
     "output_type": "display_data"
    },
    {
     "data": {
      "text/html": [
       "Find logs at: <code>.\\wandb\\run-20250624_212539-vlmli1cd\\logs</code>"
      ],
      "text/plain": [
       "<IPython.core.display.HTML object>"
      ]
     },
     "metadata": {},
     "output_type": "display_data"
    }
   ],
   "source": [
    "run.finish()"
   ]
  },
  {
   "cell_type": "markdown",
   "metadata": {},
   "source": [
    "---"
   ]
  },
  {
   "cell_type": "markdown",
   "metadata": {},
   "source": [
    "# ARIMA Models\n",
    "\n"
   ]
  },
  {
   "cell_type": "code",
   "execution_count": 31,
   "metadata": {},
   "outputs": [],
   "source": [
    "from statsmodels.tsa.arima.model import ARIMA"
   ]
  },
  {
   "cell_type": "code",
   "execution_count": 14,
   "metadata": {},
   "outputs": [],
   "source": [
    "df = pl.read_csv(\"data/clean/perm_impt_45.csv\")\n",
    "\n",
    "# Convert timestamp column to datetime\n",
    "df = df.with_columns(\n",
    "  pl.col('timestamp').str.to_datetime(\"%Y-%m-%dT%H:%M:%S%.f\")\n",
    ")\n",
    "\n",
    "# Optional: if don't need the timestamp columns\n",
    "# df = df.drop('timestamp')"
   ]
  },
  {
   "cell_type": "code",
   "execution_count": 20,
   "metadata": {},
   "outputs": [],
   "source": [
    "VALID_PERC = 0.2\n",
    "SEED = 43"
   ]
  },
  {
   "cell_type": "code",
   "execution_count": 26,
   "metadata": {},
   "outputs": [],
   "source": [
    "# Extract the last p% of columns as validation set\n",
    "np.random.seed(SEED)\n",
    "num_valid = int(len(df) * VALID_PERC)\n",
    "\n",
    "# Convert to numpy arrays\n",
    "y = df['label'].to_numpy()\n",
    "dt = df['timestamp'].to_numpy()\n",
    "X = df.drop(['label', 'timestamp']).to_numpy()\n",
    "\n",
    "# Subset into train valid\n",
    "X_train, y_train, dt_train = X[:-num_valid], y[:-num_valid], dt[:-num_valid]\n",
    "X_valid, y_valid, dt_valid = X[-num_valid:], y[-num_valid:], dt[-num_valid:]"
   ]
  },
  {
   "cell_type": "code",
   "execution_count": 33,
   "metadata": {},
   "outputs": [
    {
     "ename": "ValueError",
     "evalue": "Lengths must match to compare",
     "output_type": "error",
     "traceback": [
      "\u001b[1;31m---------------------------------------------------------------------------\u001b[0m",
      "\u001b[1;31mValueError\u001b[0m                                Traceback (most recent call last)",
      "Cell \u001b[1;32mIn[33], line 1\u001b[0m\n\u001b[1;32m----> 1\u001b[0m model \u001b[38;5;241m=\u001b[39m \u001b[43mARIMA\u001b[49m\u001b[43m(\u001b[49m\n\u001b[0;32m      2\u001b[0m \u001b[43m  \u001b[49m\u001b[43mendog\u001b[49m\u001b[38;5;241;43m=\u001b[39;49m\u001b[43my_train\u001b[49m\u001b[43m,\u001b[49m\n\u001b[0;32m      3\u001b[0m \u001b[43m  \u001b[49m\u001b[43mexog\u001b[49m\u001b[38;5;241;43m=\u001b[39;49m\u001b[43mX_train\u001b[49m\u001b[43m,\u001b[49m\n\u001b[0;32m      4\u001b[0m \u001b[43m  \u001b[49m\u001b[43morder\u001b[49m\u001b[38;5;241;43m=\u001b[39;49m\u001b[43m(\u001b[49m\u001b[38;5;241;43m3\u001b[39;49m\u001b[43m,\u001b[49m\u001b[43m \u001b[49m\u001b[38;5;241;43m1\u001b[39;49m\u001b[43m,\u001b[49m\u001b[43m \u001b[49m\u001b[38;5;241;43m3\u001b[39;49m\u001b[43m)\u001b[49m\u001b[43m,\u001b[49m\n\u001b[0;32m      5\u001b[0m \u001b[43m  \u001b[49m\u001b[43mdates\u001b[49m\u001b[38;5;241;43m=\u001b[39;49m\u001b[43mdt_train\u001b[49m\u001b[43m,\u001b[49m\n\u001b[0;32m      6\u001b[0m \u001b[43m  \u001b[49m\u001b[43mfreq\u001b[49m\u001b[38;5;241;43m=\u001b[39;49m\u001b[38;5;124;43m'\u001b[39;49m\u001b[38;5;124;43mmin\u001b[39;49m\u001b[38;5;124;43m'\u001b[39;49m\n\u001b[0;32m      7\u001b[0m \u001b[43m)\u001b[49m\n",
      "File \u001b[1;32md:\\Software\\venv\\py311_env\\Lib\\site-packages\\statsmodels\\tsa\\arima\\model.py:158\u001b[0m, in \u001b[0;36mARIMA.__init__\u001b[1;34m(self, endog, exog, order, seasonal_order, trend, enforce_stationarity, enforce_invertibility, concentrate_scale, trend_offset, dates, freq, missing, validate_specification)\u001b[0m\n\u001b[0;32m    151\u001b[0m     trend \u001b[38;5;241m=\u001b[39m \u001b[38;5;124m'\u001b[39m\u001b[38;5;124mn\u001b[39m\u001b[38;5;124m'\u001b[39m\n\u001b[0;32m    153\u001b[0m \u001b[38;5;66;03m# Construct the specification\u001b[39;00m\n\u001b[0;32m    154\u001b[0m \u001b[38;5;66;03m# (don't pass specific values of enforce stationarity/invertibility,\u001b[39;00m\n\u001b[0;32m    155\u001b[0m \u001b[38;5;66;03m# because we don't actually want to restrict the estimators based on\u001b[39;00m\n\u001b[0;32m    156\u001b[0m \u001b[38;5;66;03m# this criteria. Instead, we'll just make sure that the parameter\u001b[39;00m\n\u001b[0;32m    157\u001b[0m \u001b[38;5;66;03m# estimates from those methods satisfy the criteria.)\u001b[39;00m\n\u001b[1;32m--> 158\u001b[0m \u001b[38;5;28mself\u001b[39m\u001b[38;5;241m.\u001b[39m_spec_arima \u001b[38;5;241m=\u001b[39m \u001b[43mSARIMAXSpecification\u001b[49m\u001b[43m(\u001b[49m\n\u001b[0;32m    159\u001b[0m \u001b[43m    \u001b[49m\u001b[43mendog\u001b[49m\u001b[43m,\u001b[49m\u001b[43m \u001b[49m\u001b[43mexog\u001b[49m\u001b[38;5;241;43m=\u001b[39;49m\u001b[43mexog\u001b[49m\u001b[43m,\u001b[49m\u001b[43m \u001b[49m\u001b[43morder\u001b[49m\u001b[38;5;241;43m=\u001b[39;49m\u001b[43morder\u001b[49m\u001b[43m,\u001b[49m\u001b[43m \u001b[49m\u001b[43mseasonal_order\u001b[49m\u001b[38;5;241;43m=\u001b[39;49m\u001b[43mseasonal_order\u001b[49m\u001b[43m,\u001b[49m\n\u001b[0;32m    160\u001b[0m \u001b[43m    \u001b[49m\u001b[43mtrend\u001b[49m\u001b[38;5;241;43m=\u001b[39;49m\u001b[43mtrend\u001b[49m\u001b[43m,\u001b[49m\u001b[43m \u001b[49m\u001b[43menforce_stationarity\u001b[49m\u001b[38;5;241;43m=\u001b[39;49m\u001b[38;5;28;43;01mNone\u001b[39;49;00m\u001b[43m,\u001b[49m\u001b[43m \u001b[49m\u001b[43menforce_invertibility\u001b[49m\u001b[38;5;241;43m=\u001b[39;49m\u001b[38;5;28;43;01mNone\u001b[39;49;00m\u001b[43m,\u001b[49m\n\u001b[0;32m    161\u001b[0m \u001b[43m    \u001b[49m\u001b[43mconcentrate_scale\u001b[49m\u001b[38;5;241;43m=\u001b[39;49m\u001b[43mconcentrate_scale\u001b[49m\u001b[43m,\u001b[49m\u001b[43m \u001b[49m\u001b[43mtrend_offset\u001b[49m\u001b[38;5;241;43m=\u001b[39;49m\u001b[43mtrend_offset\u001b[49m\u001b[43m,\u001b[49m\n\u001b[0;32m    162\u001b[0m \u001b[43m    \u001b[49m\u001b[43mdates\u001b[49m\u001b[38;5;241;43m=\u001b[39;49m\u001b[43mdates\u001b[49m\u001b[43m,\u001b[49m\u001b[43m \u001b[49m\u001b[43mfreq\u001b[49m\u001b[38;5;241;43m=\u001b[39;49m\u001b[43mfreq\u001b[49m\u001b[43m,\u001b[49m\u001b[43m \u001b[49m\u001b[43mmissing\u001b[49m\u001b[38;5;241;43m=\u001b[39;49m\u001b[43mmissing\u001b[49m\u001b[43m,\u001b[49m\n\u001b[0;32m    163\u001b[0m \u001b[43m    \u001b[49m\u001b[43mvalidate_specification\u001b[49m\u001b[38;5;241;43m=\u001b[39;49m\u001b[43mvalidate_specification\u001b[49m\u001b[43m)\u001b[49m\n\u001b[0;32m    164\u001b[0m exog \u001b[38;5;241m=\u001b[39m \u001b[38;5;28mself\u001b[39m\u001b[38;5;241m.\u001b[39m_spec_arima\u001b[38;5;241m.\u001b[39m_model\u001b[38;5;241m.\u001b[39mdata\u001b[38;5;241m.\u001b[39morig_exog\n\u001b[0;32m    166\u001b[0m \u001b[38;5;66;03m# Raise an error if we have a constant in an integrated model\u001b[39;00m\n",
      "File \u001b[1;32md:\\Software\\venv\\py311_env\\Lib\\site-packages\\statsmodels\\tsa\\arima\\specification.py:446\u001b[0m, in \u001b[0;36mSARIMAXSpecification.__init__\u001b[1;34m(self, endog, exog, order, seasonal_order, ar_order, diff, ma_order, seasonal_ar_order, seasonal_diff, seasonal_ma_order, seasonal_periods, trend, enforce_stationarity, enforce_invertibility, concentrate_scale, trend_offset, dates, freq, missing, validate_specification)\u001b[0m\n\u001b[0;32m    441\u001b[0m         exog \u001b[38;5;241m=\u001b[39m np\u001b[38;5;241m.\u001b[39mc_[trend_data, exog]\n\u001b[0;32m    443\u001b[0m \u001b[38;5;66;03m# Create an underlying time series model, to handle endog / exog,\u001b[39;00m\n\u001b[0;32m    444\u001b[0m \u001b[38;5;66;03m# especially validating shapes, retrieving names, and potentially\u001b[39;00m\n\u001b[0;32m    445\u001b[0m \u001b[38;5;66;03m# providing us with a time series index\u001b[39;00m\n\u001b[1;32m--> 446\u001b[0m \u001b[38;5;28mself\u001b[39m\u001b[38;5;241m.\u001b[39m_model \u001b[38;5;241m=\u001b[39m \u001b[43mTimeSeriesModel\u001b[49m\u001b[43m(\u001b[49m\u001b[43mendog\u001b[49m\u001b[43m,\u001b[49m\u001b[43m \u001b[49m\u001b[43mexog\u001b[49m\u001b[38;5;241;43m=\u001b[39;49m\u001b[43mexog\u001b[49m\u001b[43m,\u001b[49m\u001b[43m \u001b[49m\u001b[43mdates\u001b[49m\u001b[38;5;241;43m=\u001b[39;49m\u001b[43mdates\u001b[49m\u001b[43m,\u001b[49m\u001b[43m \u001b[49m\u001b[43mfreq\u001b[49m\u001b[38;5;241;43m=\u001b[39;49m\u001b[43mfreq\u001b[49m\u001b[43m,\u001b[49m\n\u001b[0;32m    447\u001b[0m \u001b[43m                              \u001b[49m\u001b[43mmissing\u001b[49m\u001b[38;5;241;43m=\u001b[39;49m\u001b[43mmissing\u001b[49m\u001b[43m)\u001b[49m\n\u001b[0;32m    448\u001b[0m \u001b[38;5;28mself\u001b[39m\u001b[38;5;241m.\u001b[39mendog \u001b[38;5;241m=\u001b[39m \u001b[38;5;28;01mNone\u001b[39;00m \u001b[38;5;28;01mif\u001b[39;00m faux_endog \u001b[38;5;28;01melse\u001b[39;00m \u001b[38;5;28mself\u001b[39m\u001b[38;5;241m.\u001b[39m_model\u001b[38;5;241m.\u001b[39mendog\n\u001b[0;32m    449\u001b[0m \u001b[38;5;28mself\u001b[39m\u001b[38;5;241m.\u001b[39mexog \u001b[38;5;241m=\u001b[39m \u001b[38;5;28mself\u001b[39m\u001b[38;5;241m.\u001b[39m_model\u001b[38;5;241m.\u001b[39mexog\n",
      "File \u001b[1;32md:\\Software\\venv\\py311_env\\Lib\\site-packages\\statsmodels\\tsa\\base\\tsa_model.py:473\u001b[0m, in \u001b[0;36mTimeSeriesModel.__init__\u001b[1;34m(self, endog, exog, dates, freq, missing, **kwargs)\u001b[0m\n\u001b[0;32m    470\u001b[0m \u001b[38;5;28msuper\u001b[39m()\u001b[38;5;241m.\u001b[39m\u001b[38;5;21m__init__\u001b[39m(endog, exog, missing\u001b[38;5;241m=\u001b[39mmissing, \u001b[38;5;241m*\u001b[39m\u001b[38;5;241m*\u001b[39mkwargs)\n\u001b[0;32m    472\u001b[0m \u001b[38;5;66;03m# Date handling in indexes\u001b[39;00m\n\u001b[1;32m--> 473\u001b[0m \u001b[38;5;28;43mself\u001b[39;49m\u001b[38;5;241;43m.\u001b[39;49m\u001b[43m_init_dates\u001b[49m\u001b[43m(\u001b[49m\u001b[43mdates\u001b[49m\u001b[43m,\u001b[49m\u001b[43m \u001b[49m\u001b[43mfreq\u001b[49m\u001b[43m)\u001b[49m\n",
      "File \u001b[1;32md:\\Software\\venv\\py311_env\\Lib\\site-packages\\statsmodels\\tsa\\base\\tsa_model.py:615\u001b[0m, in \u001b[0;36mTimeSeriesModel._init_dates\u001b[1;34m(self, dates, freq)\u001b[0m\n\u001b[0;32m    611\u001b[0m \u001b[38;5;28;01melif\u001b[39;00m freq \u001b[38;5;129;01mis\u001b[39;00m \u001b[38;5;129;01mnot\u001b[39;00m \u001b[38;5;28;01mNone\u001b[39;00m \u001b[38;5;129;01mand\u001b[39;00m index\u001b[38;5;241m.\u001b[39mfreq \u001b[38;5;129;01mis\u001b[39;00m \u001b[38;5;28;01mNone\u001b[39;00m:\n\u001b[0;32m    612\u001b[0m     resampled_index \u001b[38;5;241m=\u001b[39m date_range(\n\u001b[0;32m    613\u001b[0m         start\u001b[38;5;241m=\u001b[39mindex[\u001b[38;5;241m0\u001b[39m], end\u001b[38;5;241m=\u001b[39mindex[\u001b[38;5;241m-\u001b[39m\u001b[38;5;241m1\u001b[39m], freq\u001b[38;5;241m=\u001b[39mfreq\n\u001b[0;32m    614\u001b[0m     )\n\u001b[1;32m--> 615\u001b[0m     \u001b[38;5;28;01mif\u001b[39;00m \u001b[38;5;129;01mnot\u001b[39;00m inferred_freq \u001b[38;5;129;01mand\u001b[39;00m \u001b[38;5;129;01mnot\u001b[39;00m (\u001b[43mresampled_index\u001b[49m\u001b[43m \u001b[49m\u001b[38;5;241;43m==\u001b[39;49m\u001b[43m \u001b[49m\u001b[43mindex\u001b[49m)\u001b[38;5;241m.\u001b[39mall():\n\u001b[0;32m    616\u001b[0m         \u001b[38;5;28;01mraise\u001b[39;00m \u001b[38;5;167;01mValueError\u001b[39;00m(\n\u001b[0;32m    617\u001b[0m             \u001b[38;5;124m\"\u001b[39m\u001b[38;5;124mThe given frequency argument could\u001b[39m\u001b[38;5;124m\"\u001b[39m\n\u001b[0;32m    618\u001b[0m             \u001b[38;5;124m\"\u001b[39m\u001b[38;5;124m not be matched to the given index.\u001b[39m\u001b[38;5;124m\"\u001b[39m\n\u001b[0;32m    619\u001b[0m         )\n\u001b[0;32m    620\u001b[0m     index \u001b[38;5;241m=\u001b[39m resampled_index\n",
      "File \u001b[1;32md:\\Software\\venv\\py311_env\\Lib\\site-packages\\pandas\\core\\ops\\common.py:76\u001b[0m, in \u001b[0;36m_unpack_zerodim_and_defer.<locals>.new_method\u001b[1;34m(self, other)\u001b[0m\n\u001b[0;32m     72\u001b[0m             \u001b[38;5;28;01mreturn\u001b[39;00m \u001b[38;5;28mNotImplemented\u001b[39m\n\u001b[0;32m     74\u001b[0m other \u001b[38;5;241m=\u001b[39m item_from_zerodim(other)\n\u001b[1;32m---> 76\u001b[0m \u001b[38;5;28;01mreturn\u001b[39;00m \u001b[43mmethod\u001b[49m\u001b[43m(\u001b[49m\u001b[38;5;28;43mself\u001b[39;49m\u001b[43m,\u001b[49m\u001b[43m \u001b[49m\u001b[43mother\u001b[49m\u001b[43m)\u001b[49m\n",
      "File \u001b[1;32md:\\Software\\venv\\py311_env\\Lib\\site-packages\\pandas\\core\\arraylike.py:40\u001b[0m, in \u001b[0;36mOpsMixin.__eq__\u001b[1;34m(self, other)\u001b[0m\n\u001b[0;32m     38\u001b[0m \u001b[38;5;129m@unpack_zerodim_and_defer\u001b[39m(\u001b[38;5;124m\"\u001b[39m\u001b[38;5;124m__eq__\u001b[39m\u001b[38;5;124m\"\u001b[39m)\n\u001b[0;32m     39\u001b[0m \u001b[38;5;28;01mdef\u001b[39;00m \u001b[38;5;21m__eq__\u001b[39m(\u001b[38;5;28mself\u001b[39m, other):\n\u001b[1;32m---> 40\u001b[0m     \u001b[38;5;28;01mreturn\u001b[39;00m \u001b[38;5;28;43mself\u001b[39;49m\u001b[38;5;241;43m.\u001b[39;49m\u001b[43m_cmp_method\u001b[49m\u001b[43m(\u001b[49m\u001b[43mother\u001b[49m\u001b[43m,\u001b[49m\u001b[43m \u001b[49m\u001b[43moperator\u001b[49m\u001b[38;5;241;43m.\u001b[39;49m\u001b[43meq\u001b[49m\u001b[43m)\u001b[49m\n",
      "File \u001b[1;32md:\\Software\\venv\\py311_env\\Lib\\site-packages\\pandas\\core\\indexes\\base.py:7185\u001b[0m, in \u001b[0;36mIndex._cmp_method\u001b[1;34m(self, other, op)\u001b[0m\n\u001b[0;32m   7180\u001b[0m         \u001b[38;5;28;01mreturn\u001b[39;00m arr\n\u001b[0;32m   7182\u001b[0m \u001b[38;5;28;01mif\u001b[39;00m \u001b[38;5;28misinstance\u001b[39m(other, (np\u001b[38;5;241m.\u001b[39mndarray, Index, ABCSeries, ExtensionArray)) \u001b[38;5;129;01mand\u001b[39;00m \u001b[38;5;28mlen\u001b[39m(\n\u001b[0;32m   7183\u001b[0m     \u001b[38;5;28mself\u001b[39m\n\u001b[0;32m   7184\u001b[0m ) \u001b[38;5;241m!=\u001b[39m \u001b[38;5;28mlen\u001b[39m(other):\n\u001b[1;32m-> 7185\u001b[0m     \u001b[38;5;28;01mraise\u001b[39;00m \u001b[38;5;167;01mValueError\u001b[39;00m(\u001b[38;5;124m\"\u001b[39m\u001b[38;5;124mLengths must match to compare\u001b[39m\u001b[38;5;124m\"\u001b[39m)\n\u001b[0;32m   7187\u001b[0m \u001b[38;5;28;01mif\u001b[39;00m \u001b[38;5;129;01mnot\u001b[39;00m \u001b[38;5;28misinstance\u001b[39m(other, ABCMultiIndex):\n\u001b[0;32m   7188\u001b[0m     other \u001b[38;5;241m=\u001b[39m extract_array(other, extract_numpy\u001b[38;5;241m=\u001b[39m\u001b[38;5;28;01mTrue\u001b[39;00m)\n",
      "\u001b[1;31mValueError\u001b[0m: Lengths must match to compare"
     ]
    }
   ],
   "source": [
    "model = ARIMA(\n",
    "  endog=y_train,\n",
    "  exog=X_train,\n",
    "  order=(3, 1, 3),\n",
    "  dates=dt_train,\n",
    "  freq='min'\n",
    ")"
   ]
  },
  {
   "cell_type": "code",
   "execution_count": 32,
   "metadata": {},
   "outputs": [
    {
     "name": "stdout",
     "output_type": "stream",
     "text": [
      "Sample Data with Minute Frequency Index:\n",
      "2023-01-01 00:00:00    100.496714\n",
      "2023-01-01 00:01:00    100.358450\n",
      "2023-01-01 00:02:00    101.006138\n",
      "2023-01-01 00:03:00    102.529168\n",
      "2023-01-01 00:04:00    102.295015\n",
      "2023-01-01 00:05:00    102.060878\n",
      "2023-01-01 00:06:00    103.640091\n",
      "2023-01-01 00:07:00    104.407525\n",
      "2023-01-01 00:08:00    103.938051\n",
      "2023-01-01 00:09:00    104.480611\n",
      "2023-01-01 00:10:00    104.017193\n",
      "2023-01-01 00:11:00    103.551464\n",
      "2023-01-01 00:12:00    103.793426\n",
      "2023-01-01 00:13:00    101.880146\n",
      "2023-01-01 00:14:00    100.155228\n",
      "2023-01-01 00:15:00     99.592940\n",
      "2023-01-01 00:16:00     98.580109\n",
      "2023-01-01 00:17:00     98.894357\n",
      "2023-01-01 00:18:00     97.986332\n",
      "2023-01-01 00:19:00     96.574029\n",
      "2023-01-01 00:20:00     98.039678\n",
      "2023-01-01 00:21:00     97.813901\n",
      "2023-01-01 00:22:00     97.881429\n",
      "2023-01-01 00:23:00     96.456681\n",
      "2023-01-01 00:24:00     95.912299\n",
      "2023-01-01 00:25:00     96.023221\n",
      "2023-01-01 00:26:00     94.872228\n",
      "2023-01-01 00:27:00     95.247926\n",
      "2023-01-01 00:28:00     94.647287\n",
      "2023-01-01 00:29:00     94.355593\n",
      "2023-01-01 00:30:00     93.753887\n",
      "Freq: min, dtype: float64\n",
      "\n",
      "Index Frequency: <Minute>\n",
      "Index Freq (as string): min\n"
     ]
    }
   ],
   "source": [
    "import pandas as pd\n",
    "# 1. Create a DatetimeIndex with minute frequency\n",
    "start_date = '2023-01-01 00:00:00'\n",
    "end_date = '2023-01-01 00:30:00' # 31 minutes of data\n",
    "minute_index = pd.date_range(start=start_date, end=end_date, freq='min')\n",
    "\n",
    "# 2. Create a sample time series (replace with your actual data)\n",
    "# Let's create some synthetic minute-level data\n",
    "np.random.seed(42)\n",
    "data = pd.Series(np.random.randn(len(minute_index)).cumsum() + 100, index=minute_index)\n",
    "\n",
    "print(\"Sample Data with Minute Frequency Index:\")\n",
    "print(data)\n",
    "print(\"\\nIndex Frequency:\", data.index.freq)\n",
    "\n",
    "# Check the frequency directly\n",
    "print(\"Index Freq (as string):\", data.index.freqstr)"
   ]
  },
  {
   "cell_type": "code",
   "execution_count": null,
   "metadata": {},
   "outputs": [],
   "source": []
  },
  {
   "cell_type": "code",
   "execution_count": null,
   "metadata": {},
   "outputs": [],
   "source": []
  },
  {
   "cell_type": "code",
   "execution_count": null,
   "metadata": {},
   "outputs": [],
   "source": []
  },
  {
   "cell_type": "code",
   "execution_count": null,
   "metadata": {},
   "outputs": [],
   "source": []
  },
  {
   "cell_type": "markdown",
   "metadata": {},
   "source": [
    "---"
   ]
  },
  {
   "cell_type": "markdown",
   "metadata": {},
   "source": [
    "# Make Predictions"
   ]
  },
  {
   "cell_type": "code",
   "execution_count": null,
   "metadata": {},
   "outputs": [],
   "source": [
    "test = pl.read_csv(\"./data/clean/test_plus.csv\")\n",
    "\n",
    "test = test.drop(['timestamp', 'label'])\n",
    "test = test.to_numpy()\n",
    "test = scaler.transform(test)"
   ]
  },
  {
   "cell_type": "code",
   "execution_count": 23,
   "metadata": {},
   "outputs": [
    {
     "name": "stdout",
     "output_type": "stream",
     "text": [
      "[LightGBM] [Info] Auto-choosing col-wise multi-threading, the overhead of testing was 0.592967 seconds.\n",
      "You can set `force_col_wise=true` to remove the overhead.\n",
      "[LightGBM] [Info] Total Bins 223360\n",
      "[LightGBM] [Info] Number of data points in the train set: 525887, number of used features: 876\n",
      "[LightGBM] [Info] Start training from score 0.036126\n"
     ]
    },
    {
     "data": {
      "text/html": [
       "<style>#sk-container-id-1 {\n",
       "  /* Definition of color scheme common for light and dark mode */\n",
       "  --sklearn-color-text: #000;\n",
       "  --sklearn-color-text-muted: #666;\n",
       "  --sklearn-color-line: gray;\n",
       "  /* Definition of color scheme for unfitted estimators */\n",
       "  --sklearn-color-unfitted-level-0: #fff5e6;\n",
       "  --sklearn-color-unfitted-level-1: #f6e4d2;\n",
       "  --sklearn-color-unfitted-level-2: #ffe0b3;\n",
       "  --sklearn-color-unfitted-level-3: chocolate;\n",
       "  /* Definition of color scheme for fitted estimators */\n",
       "  --sklearn-color-fitted-level-0: #f0f8ff;\n",
       "  --sklearn-color-fitted-level-1: #d4ebff;\n",
       "  --sklearn-color-fitted-level-2: #b3dbfd;\n",
       "  --sklearn-color-fitted-level-3: cornflowerblue;\n",
       "\n",
       "  /* Specific color for light theme */\n",
       "  --sklearn-color-text-on-default-background: var(--sg-text-color, var(--theme-code-foreground, var(--jp-content-font-color1, black)));\n",
       "  --sklearn-color-background: var(--sg-background-color, var(--theme-background, var(--jp-layout-color0, white)));\n",
       "  --sklearn-color-border-box: var(--sg-text-color, var(--theme-code-foreground, var(--jp-content-font-color1, black)));\n",
       "  --sklearn-color-icon: #696969;\n",
       "\n",
       "  @media (prefers-color-scheme: dark) {\n",
       "    /* Redefinition of color scheme for dark theme */\n",
       "    --sklearn-color-text-on-default-background: var(--sg-text-color, var(--theme-code-foreground, var(--jp-content-font-color1, white)));\n",
       "    --sklearn-color-background: var(--sg-background-color, var(--theme-background, var(--jp-layout-color0, #111)));\n",
       "    --sklearn-color-border-box: var(--sg-text-color, var(--theme-code-foreground, var(--jp-content-font-color1, white)));\n",
       "    --sklearn-color-icon: #878787;\n",
       "  }\n",
       "}\n",
       "\n",
       "#sk-container-id-1 {\n",
       "  color: var(--sklearn-color-text);\n",
       "}\n",
       "\n",
       "#sk-container-id-1 pre {\n",
       "  padding: 0;\n",
       "}\n",
       "\n",
       "#sk-container-id-1 input.sk-hidden--visually {\n",
       "  border: 0;\n",
       "  clip: rect(1px 1px 1px 1px);\n",
       "  clip: rect(1px, 1px, 1px, 1px);\n",
       "  height: 1px;\n",
       "  margin: -1px;\n",
       "  overflow: hidden;\n",
       "  padding: 0;\n",
       "  position: absolute;\n",
       "  width: 1px;\n",
       "}\n",
       "\n",
       "#sk-container-id-1 div.sk-dashed-wrapped {\n",
       "  border: 1px dashed var(--sklearn-color-line);\n",
       "  margin: 0 0.4em 0.5em 0.4em;\n",
       "  box-sizing: border-box;\n",
       "  padding-bottom: 0.4em;\n",
       "  background-color: var(--sklearn-color-background);\n",
       "}\n",
       "\n",
       "#sk-container-id-1 div.sk-container {\n",
       "  /* jupyter's `normalize.less` sets `[hidden] { display: none; }`\n",
       "     but bootstrap.min.css set `[hidden] { display: none !important; }`\n",
       "     so we also need the `!important` here to be able to override the\n",
       "     default hidden behavior on the sphinx rendered scikit-learn.org.\n",
       "     See: https://github.com/scikit-learn/scikit-learn/issues/21755 */\n",
       "  display: inline-block !important;\n",
       "  position: relative;\n",
       "}\n",
       "\n",
       "#sk-container-id-1 div.sk-text-repr-fallback {\n",
       "  display: none;\n",
       "}\n",
       "\n",
       "div.sk-parallel-item,\n",
       "div.sk-serial,\n",
       "div.sk-item {\n",
       "  /* draw centered vertical line to link estimators */\n",
       "  background-image: linear-gradient(var(--sklearn-color-text-on-default-background), var(--sklearn-color-text-on-default-background));\n",
       "  background-size: 2px 100%;\n",
       "  background-repeat: no-repeat;\n",
       "  background-position: center center;\n",
       "}\n",
       "\n",
       "/* Parallel-specific style estimator block */\n",
       "\n",
       "#sk-container-id-1 div.sk-parallel-item::after {\n",
       "  content: \"\";\n",
       "  width: 100%;\n",
       "  border-bottom: 2px solid var(--sklearn-color-text-on-default-background);\n",
       "  flex-grow: 1;\n",
       "}\n",
       "\n",
       "#sk-container-id-1 div.sk-parallel {\n",
       "  display: flex;\n",
       "  align-items: stretch;\n",
       "  justify-content: center;\n",
       "  background-color: var(--sklearn-color-background);\n",
       "  position: relative;\n",
       "}\n",
       "\n",
       "#sk-container-id-1 div.sk-parallel-item {\n",
       "  display: flex;\n",
       "  flex-direction: column;\n",
       "}\n",
       "\n",
       "#sk-container-id-1 div.sk-parallel-item:first-child::after {\n",
       "  align-self: flex-end;\n",
       "  width: 50%;\n",
       "}\n",
       "\n",
       "#sk-container-id-1 div.sk-parallel-item:last-child::after {\n",
       "  align-self: flex-start;\n",
       "  width: 50%;\n",
       "}\n",
       "\n",
       "#sk-container-id-1 div.sk-parallel-item:only-child::after {\n",
       "  width: 0;\n",
       "}\n",
       "\n",
       "/* Serial-specific style estimator block */\n",
       "\n",
       "#sk-container-id-1 div.sk-serial {\n",
       "  display: flex;\n",
       "  flex-direction: column;\n",
       "  align-items: center;\n",
       "  background-color: var(--sklearn-color-background);\n",
       "  padding-right: 1em;\n",
       "  padding-left: 1em;\n",
       "}\n",
       "\n",
       "\n",
       "/* Toggleable style: style used for estimator/Pipeline/ColumnTransformer box that is\n",
       "clickable and can be expanded/collapsed.\n",
       "- Pipeline and ColumnTransformer use this feature and define the default style\n",
       "- Estimators will overwrite some part of the style using the `sk-estimator` class\n",
       "*/\n",
       "\n",
       "/* Pipeline and ColumnTransformer style (default) */\n",
       "\n",
       "#sk-container-id-1 div.sk-toggleable {\n",
       "  /* Default theme specific background. It is overwritten whether we have a\n",
       "  specific estimator or a Pipeline/ColumnTransformer */\n",
       "  background-color: var(--sklearn-color-background);\n",
       "}\n",
       "\n",
       "/* Toggleable label */\n",
       "#sk-container-id-1 label.sk-toggleable__label {\n",
       "  cursor: pointer;\n",
       "  display: flex;\n",
       "  width: 100%;\n",
       "  margin-bottom: 0;\n",
       "  padding: 0.5em;\n",
       "  box-sizing: border-box;\n",
       "  text-align: center;\n",
       "  align-items: start;\n",
       "  justify-content: space-between;\n",
       "  gap: 0.5em;\n",
       "}\n",
       "\n",
       "#sk-container-id-1 label.sk-toggleable__label .caption {\n",
       "  font-size: 0.6rem;\n",
       "  font-weight: lighter;\n",
       "  color: var(--sklearn-color-text-muted);\n",
       "}\n",
       "\n",
       "#sk-container-id-1 label.sk-toggleable__label-arrow:before {\n",
       "  /* Arrow on the left of the label */\n",
       "  content: \"▸\";\n",
       "  float: left;\n",
       "  margin-right: 0.25em;\n",
       "  color: var(--sklearn-color-icon);\n",
       "}\n",
       "\n",
       "#sk-container-id-1 label.sk-toggleable__label-arrow:hover:before {\n",
       "  color: var(--sklearn-color-text);\n",
       "}\n",
       "\n",
       "/* Toggleable content - dropdown */\n",
       "\n",
       "#sk-container-id-1 div.sk-toggleable__content {\n",
       "  max-height: 0;\n",
       "  max-width: 0;\n",
       "  overflow: hidden;\n",
       "  text-align: left;\n",
       "  /* unfitted */\n",
       "  background-color: var(--sklearn-color-unfitted-level-0);\n",
       "}\n",
       "\n",
       "#sk-container-id-1 div.sk-toggleable__content.fitted {\n",
       "  /* fitted */\n",
       "  background-color: var(--sklearn-color-fitted-level-0);\n",
       "}\n",
       "\n",
       "#sk-container-id-1 div.sk-toggleable__content pre {\n",
       "  margin: 0.2em;\n",
       "  border-radius: 0.25em;\n",
       "  color: var(--sklearn-color-text);\n",
       "  /* unfitted */\n",
       "  background-color: var(--sklearn-color-unfitted-level-0);\n",
       "}\n",
       "\n",
       "#sk-container-id-1 div.sk-toggleable__content.fitted pre {\n",
       "  /* unfitted */\n",
       "  background-color: var(--sklearn-color-fitted-level-0);\n",
       "}\n",
       "\n",
       "#sk-container-id-1 input.sk-toggleable__control:checked~div.sk-toggleable__content {\n",
       "  /* Expand drop-down */\n",
       "  max-height: 200px;\n",
       "  max-width: 100%;\n",
       "  overflow: auto;\n",
       "}\n",
       "\n",
       "#sk-container-id-1 input.sk-toggleable__control:checked~label.sk-toggleable__label-arrow:before {\n",
       "  content: \"▾\";\n",
       "}\n",
       "\n",
       "/* Pipeline/ColumnTransformer-specific style */\n",
       "\n",
       "#sk-container-id-1 div.sk-label input.sk-toggleable__control:checked~label.sk-toggleable__label {\n",
       "  color: var(--sklearn-color-text);\n",
       "  background-color: var(--sklearn-color-unfitted-level-2);\n",
       "}\n",
       "\n",
       "#sk-container-id-1 div.sk-label.fitted input.sk-toggleable__control:checked~label.sk-toggleable__label {\n",
       "  background-color: var(--sklearn-color-fitted-level-2);\n",
       "}\n",
       "\n",
       "/* Estimator-specific style */\n",
       "\n",
       "/* Colorize estimator box */\n",
       "#sk-container-id-1 div.sk-estimator input.sk-toggleable__control:checked~label.sk-toggleable__label {\n",
       "  /* unfitted */\n",
       "  background-color: var(--sklearn-color-unfitted-level-2);\n",
       "}\n",
       "\n",
       "#sk-container-id-1 div.sk-estimator.fitted input.sk-toggleable__control:checked~label.sk-toggleable__label {\n",
       "  /* fitted */\n",
       "  background-color: var(--sklearn-color-fitted-level-2);\n",
       "}\n",
       "\n",
       "#sk-container-id-1 div.sk-label label.sk-toggleable__label,\n",
       "#sk-container-id-1 div.sk-label label {\n",
       "  /* The background is the default theme color */\n",
       "  color: var(--sklearn-color-text-on-default-background);\n",
       "}\n",
       "\n",
       "/* On hover, darken the color of the background */\n",
       "#sk-container-id-1 div.sk-label:hover label.sk-toggleable__label {\n",
       "  color: var(--sklearn-color-text);\n",
       "  background-color: var(--sklearn-color-unfitted-level-2);\n",
       "}\n",
       "\n",
       "/* Label box, darken color on hover, fitted */\n",
       "#sk-container-id-1 div.sk-label.fitted:hover label.sk-toggleable__label.fitted {\n",
       "  color: var(--sklearn-color-text);\n",
       "  background-color: var(--sklearn-color-fitted-level-2);\n",
       "}\n",
       "\n",
       "/* Estimator label */\n",
       "\n",
       "#sk-container-id-1 div.sk-label label {\n",
       "  font-family: monospace;\n",
       "  font-weight: bold;\n",
       "  display: inline-block;\n",
       "  line-height: 1.2em;\n",
       "}\n",
       "\n",
       "#sk-container-id-1 div.sk-label-container {\n",
       "  text-align: center;\n",
       "}\n",
       "\n",
       "/* Estimator-specific */\n",
       "#sk-container-id-1 div.sk-estimator {\n",
       "  font-family: monospace;\n",
       "  border: 1px dotted var(--sklearn-color-border-box);\n",
       "  border-radius: 0.25em;\n",
       "  box-sizing: border-box;\n",
       "  margin-bottom: 0.5em;\n",
       "  /* unfitted */\n",
       "  background-color: var(--sklearn-color-unfitted-level-0);\n",
       "}\n",
       "\n",
       "#sk-container-id-1 div.sk-estimator.fitted {\n",
       "  /* fitted */\n",
       "  background-color: var(--sklearn-color-fitted-level-0);\n",
       "}\n",
       "\n",
       "/* on hover */\n",
       "#sk-container-id-1 div.sk-estimator:hover {\n",
       "  /* unfitted */\n",
       "  background-color: var(--sklearn-color-unfitted-level-2);\n",
       "}\n",
       "\n",
       "#sk-container-id-1 div.sk-estimator.fitted:hover {\n",
       "  /* fitted */\n",
       "  background-color: var(--sklearn-color-fitted-level-2);\n",
       "}\n",
       "\n",
       "/* Specification for estimator info (e.g. \"i\" and \"?\") */\n",
       "\n",
       "/* Common style for \"i\" and \"?\" */\n",
       "\n",
       ".sk-estimator-doc-link,\n",
       "a:link.sk-estimator-doc-link,\n",
       "a:visited.sk-estimator-doc-link {\n",
       "  float: right;\n",
       "  font-size: smaller;\n",
       "  line-height: 1em;\n",
       "  font-family: monospace;\n",
       "  background-color: var(--sklearn-color-background);\n",
       "  border-radius: 1em;\n",
       "  height: 1em;\n",
       "  width: 1em;\n",
       "  text-decoration: none !important;\n",
       "  margin-left: 0.5em;\n",
       "  text-align: center;\n",
       "  /* unfitted */\n",
       "  border: var(--sklearn-color-unfitted-level-1) 1pt solid;\n",
       "  color: var(--sklearn-color-unfitted-level-1);\n",
       "}\n",
       "\n",
       ".sk-estimator-doc-link.fitted,\n",
       "a:link.sk-estimator-doc-link.fitted,\n",
       "a:visited.sk-estimator-doc-link.fitted {\n",
       "  /* fitted */\n",
       "  border: var(--sklearn-color-fitted-level-1) 1pt solid;\n",
       "  color: var(--sklearn-color-fitted-level-1);\n",
       "}\n",
       "\n",
       "/* On hover */\n",
       "div.sk-estimator:hover .sk-estimator-doc-link:hover,\n",
       ".sk-estimator-doc-link:hover,\n",
       "div.sk-label-container:hover .sk-estimator-doc-link:hover,\n",
       ".sk-estimator-doc-link:hover {\n",
       "  /* unfitted */\n",
       "  background-color: var(--sklearn-color-unfitted-level-3);\n",
       "  color: var(--sklearn-color-background);\n",
       "  text-decoration: none;\n",
       "}\n",
       "\n",
       "div.sk-estimator.fitted:hover .sk-estimator-doc-link.fitted:hover,\n",
       ".sk-estimator-doc-link.fitted:hover,\n",
       "div.sk-label-container:hover .sk-estimator-doc-link.fitted:hover,\n",
       ".sk-estimator-doc-link.fitted:hover {\n",
       "  /* fitted */\n",
       "  background-color: var(--sklearn-color-fitted-level-3);\n",
       "  color: var(--sklearn-color-background);\n",
       "  text-decoration: none;\n",
       "}\n",
       "\n",
       "/* Span, style for the box shown on hovering the info icon */\n",
       ".sk-estimator-doc-link span {\n",
       "  display: none;\n",
       "  z-index: 9999;\n",
       "  position: relative;\n",
       "  font-weight: normal;\n",
       "  right: .2ex;\n",
       "  padding: .5ex;\n",
       "  margin: .5ex;\n",
       "  width: min-content;\n",
       "  min-width: 20ex;\n",
       "  max-width: 50ex;\n",
       "  color: var(--sklearn-color-text);\n",
       "  box-shadow: 2pt 2pt 4pt #999;\n",
       "  /* unfitted */\n",
       "  background: var(--sklearn-color-unfitted-level-0);\n",
       "  border: .5pt solid var(--sklearn-color-unfitted-level-3);\n",
       "}\n",
       "\n",
       ".sk-estimator-doc-link.fitted span {\n",
       "  /* fitted */\n",
       "  background: var(--sklearn-color-fitted-level-0);\n",
       "  border: var(--sklearn-color-fitted-level-3);\n",
       "}\n",
       "\n",
       ".sk-estimator-doc-link:hover span {\n",
       "  display: block;\n",
       "}\n",
       "\n",
       "/* \"?\"-specific style due to the `<a>` HTML tag */\n",
       "\n",
       "#sk-container-id-1 a.estimator_doc_link {\n",
       "  float: right;\n",
       "  font-size: 1rem;\n",
       "  line-height: 1em;\n",
       "  font-family: monospace;\n",
       "  background-color: var(--sklearn-color-background);\n",
       "  border-radius: 1rem;\n",
       "  height: 1rem;\n",
       "  width: 1rem;\n",
       "  text-decoration: none;\n",
       "  /* unfitted */\n",
       "  color: var(--sklearn-color-unfitted-level-1);\n",
       "  border: var(--sklearn-color-unfitted-level-1) 1pt solid;\n",
       "}\n",
       "\n",
       "#sk-container-id-1 a.estimator_doc_link.fitted {\n",
       "  /* fitted */\n",
       "  border: var(--sklearn-color-fitted-level-1) 1pt solid;\n",
       "  color: var(--sklearn-color-fitted-level-1);\n",
       "}\n",
       "\n",
       "/* On hover */\n",
       "#sk-container-id-1 a.estimator_doc_link:hover {\n",
       "  /* unfitted */\n",
       "  background-color: var(--sklearn-color-unfitted-level-3);\n",
       "  color: var(--sklearn-color-background);\n",
       "  text-decoration: none;\n",
       "}\n",
       "\n",
       "#sk-container-id-1 a.estimator_doc_link.fitted:hover {\n",
       "  /* fitted */\n",
       "  background-color: var(--sklearn-color-fitted-level-3);\n",
       "}\n",
       "</style><div id=\"sk-container-id-1\" class=\"sk-top-container\"><div class=\"sk-text-repr-fallback\"><pre>LGBMRegressor()</pre><b>In a Jupyter environment, please rerun this cell to show the HTML representation or trust the notebook. <br />On GitHub, the HTML representation is unable to render, please try loading this page with nbviewer.org.</b></div><div class=\"sk-container\" hidden><div class=\"sk-item\"><div class=\"sk-estimator fitted sk-toggleable\"><input class=\"sk-toggleable__control sk-hidden--visually\" id=\"sk-estimator-id-1\" type=\"checkbox\" checked><label for=\"sk-estimator-id-1\" class=\"sk-toggleable__label fitted sk-toggleable__label-arrow\"><div><div>LGBMRegressor</div></div><div><span class=\"sk-estimator-doc-link fitted\">i<span>Fitted</span></span></div></label><div class=\"sk-toggleable__content fitted\"><pre>LGBMRegressor()</pre></div> </div></div></div></div>"
      ],
      "text/plain": [
       "LGBMRegressor()"
      ]
     },
     "execution_count": 23,
     "metadata": {},
     "output_type": "execute_result"
    }
   ],
   "source": [
    "model = LGBMRegressor()\n",
    "model.fit(X, y)"
   ]
  },
  {
   "cell_type": "code",
   "execution_count": 24,
   "metadata": {},
   "outputs": [
    {
     "name": "stderr",
     "output_type": "stream",
     "text": [
      "d:\\Software\\venv\\py311_env\\Lib\\site-packages\\sklearn\\utils\\validation.py:2739: UserWarning: X does not have valid feature names, but LGBMRegressor was fitted with feature names\n",
      "  warnings.warn(\n"
     ]
    }
   ],
   "source": [
    "preds = model.predict(test)"
   ]
  },
  {
   "cell_type": "code",
   "execution_count": 27,
   "metadata": {},
   "outputs": [],
   "source": [
    "pl.DataFrame({\n",
    "  \"ID\": range(1, 1+len(test)), \n",
    "  \"prediction\": preds\n",
    "}).write_csv(\"results/baseline.csv\")"
   ]
  }
 ],
 "metadata": {
  "kernelspec": {
   "display_name": "py311_env",
   "language": "python",
   "name": "python3"
  },
  "language_info": {
   "codemirror_mode": {
    "name": "ipython",
    "version": 3
   },
   "file_extension": ".py",
   "mimetype": "text/x-python",
   "name": "python",
   "nbconvert_exporter": "python",
   "pygments_lexer": "ipython3",
   "version": "3.11.9"
  }
 },
 "nbformat": 4,
 "nbformat_minor": 2
}
